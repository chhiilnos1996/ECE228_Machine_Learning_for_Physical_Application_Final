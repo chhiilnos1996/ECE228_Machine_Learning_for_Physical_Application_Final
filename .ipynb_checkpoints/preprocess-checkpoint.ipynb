{
 "cells": [
  {
   "cell_type": "markdown",
   "metadata": {
    "colab_type": "text",
    "id": "z1OM7gCr1V8t"
   },
   "source": [
    "# Whale Detection Challenge : Preprocess"
   ]
  },
  {
   "cell_type": "markdown",
   "metadata": {
    "colab_type": "text",
    "id": "dCaGQHRx1V8t"
   },
   "source": [
    "Method overview : FFT to convert the sound tracks into spectrograms, and apply distinct preprocessing methods such as clipping, noise removal, PCEN and filters. After preprocessing we feed the spectrograms into state of the art light CNN models such as Resnet 18, VGG 16 or GoogleNet to identify right whale call patterns and perform classification. We may also try the removal of pooling layers in the networks and see if it causes better outcome."
   ]
  },
  {
   "cell_type": "code",
   "execution_count": 1,
   "metadata": {
    "colab": {},
    "colab_type": "code",
    "id": "nxmb5uoZ1V8u"
   },
   "outputs": [],
   "source": [
    "import numpy as np\n",
    "import aifc\n",
    "import matplotlib.pyplot as plt\n",
    "from matplotlib import mlab, cm\n",
    "import matplotlib.ticker as plticker\n",
    "import matplotlib\n",
    "import pandas as pd\n",
    "import pathlib\n",
    "import os\n",
    "import cv2\n",
    "import librosa\n",
    "import librosa.display\n",
    "%matplotlib inline"
   ]
  },
  {
   "cell_type": "raw",
   "metadata": {
    "colab": {
     "base_uri": "https://localhost:8080/",
     "height": 179
    },
    "colab_type": "code",
    "id": "WZqr0Sks2twh",
    "outputId": "a71a0f58-80fe-4689-8175-33be8bbf77b8"
   },
   "source": [
    "from google.colab import drive\n",
    "drive.mount('/content/gdrive')\n",
    "%cd gdrive/My\\ Drive/ECE\\ 228\\ Project\n",
    "%cd data/train\n",
    "%cd ../../"
   ]
  },
  {
   "cell_type": "code",
   "execution_count": 2,
   "metadata": {
    "colab": {
     "base_uri": "https://localhost:8080/",
     "height": 35
    },
    "colab_type": "code",
    "id": "vxKZd4A-Ltzt",
    "outputId": "0a2c2682-4d0b-48cf-8f2c-f6b7b1144da0"
   },
   "outputs": [
    {
     "name": "stdout",
     "output_type": "stream",
     "text": [
      "/Users/daniel\n",
      "/Users/daniel/Documents/ece228_final\n"
     ]
    }
   ],
   "source": [
    "%cd ~\n",
    "%cd ./Documents/ece228_final/"
   ]
  },
  {
   "cell_type": "markdown",
   "metadata": {
    "colab_type": "text",
    "id": "GrLgrxC41V8y"
   },
   "source": [
    "## Preprocess Section"
   ]
  },
  {
   "cell_type": "markdown",
   "metadata": {
    "colab_type": "text",
    "id": "1pePDo9e1V8y"
   },
   "source": [
    "### Preprocessing 0 : contrast-enhanced spectrograms"
   ]
  },
  {
   "cell_type": "code",
   "execution_count": 6,
   "metadata": {
    "colab": {
     "base_uri": "https://localhost:8080/",
     "height": 353
    },
    "colab_type": "code",
    "id": "jdNHBkOb1V8z",
    "outputId": "56bd391e-3cd9-4992-a050-854ba1821fdc"
   },
   "outputs": [],
   "source": [
    "# ReadAIFF function\n",
    "def ReadAIFF(file):\n",
    "#Reads the frames from the audio clip and returns the uncompressed data '\n",
    "    s = aifc.open(file,'r')\n",
    "    nFrames = s.getnframes()\n",
    "    strSig = s.readframes(nFrames)\n",
    "    return np.fromstring(strSig, np.short).byteswap()\n",
    "\n",
    "def plot_sbs_spectrogram(filename_whale, filename_non_whale):\n",
    "    whale = ReadAIFF(filename_whale)\n",
    "    nonwhale = ReadAIFF(filename_non_whale)\n",
    "    plt.figure(figsize = (14,4))[1]\n",
    "    print(max(freq)+\"  \"+min(freq))\n",
    "    ax1 = plt.subplot(121)\n",
    "    my_cmap = matplotlib.cm.get_cmap('hsv_r');\n",
    "    params = {'NFFT':256, 'Fs':2000, 'noverlap':192, 'cmap' : my_cmap}\n",
    "    plt.specgram(whale, **params);\n",
    "    ax1.set_title('Whale sound spectrogram', fontsize = 12)\n",
    "    ax1.set_xlabel('Time (seconds)', fontsize = 12)\n",
    "    ax1.set_ylabel('Frequency (Hz)', fontsize = 12)\n",
    "    cbar = plt.colorbar()\n",
    "    cbar.set_label('Amplitude', fontsize = 12)\n",
    "    ax2 = plt.subplot(122)\n",
    "    plt.specgram(nonwhale, **params);\n",
    "    ax2.set_title('Non-whale sound spectrogram', fontsize = 12)\n",
    "    ax2.set_xlabel('Time (seconds)', fontsize = 12)\n",
    "    ax2.set_ylabel('Frequency (Hz)', fontsize = 12)\n",
    "    cbar = plt.colorbar()\n",
    "    cbar.set_label('Amplitude', fontsize = 12)\n",
    "    plt.show()\n",
    "   \n",
    "# Compare several examples:\n",
    "path_data='./data/'\n",
    "#plot_sbs_spectrogram(path_data + 'train/train24.aiff', path_data + 'train/train1315.aiff')"
   ]
  },
  {
   "cell_type": "code",
   "execution_count": 8,
   "metadata": {
    "colab": {},
    "colab_type": "code",
    "id": "rBQ1Gmgd1V84"
   },
   "outputs": [],
   "source": [
    "# transform all aiffs to np.ndarray and save\n",
    "def to_specarray(filename, mode='psd'):\n",
    "    data = ReadAIFF(filename)\n",
    "    my_cmap = matplotlib.cm.get_cmap('hsv_r');\n",
    "    params = {'NFFT':256, 'Fs':2000, 'noverlap':192, 'cmap' : my_cmap, 'mode': mode}\n",
    "    spectrum, freq, t, im = plt.specgram(data, **params);\n",
    "    #print(type(np.transpose(spectrum)))\n",
    "    #print(np.transpose(spectrum).shape)\n",
    "    return np.transpose(spectrum)"
   ]
  },
  {
   "cell_type": "markdown",
   "metadata": {
    "colab_type": "text",
    "id": "YjWbNQhD1V88"
   },
   "source": [
    "### Preprocessing 1 : filter"
   ]
  },
  {
   "cell_type": "code",
   "execution_count": 7,
   "metadata": {
    "colab": {},
    "colab_type": "code",
    "id": "gDdxH7fT1V9c"
   },
   "outputs": [],
   "source": [
    "# Convolution and then filter\n",
    "def noiseFilter(file, inner=3, vouter=59, houter=32, maxM=50, norm=True):\n",
    "    P=cv2.imread(file, 0)       \n",
    "    Q=P.copy()\n",
    "    Q=cv2.fastNlMeansDenoising(Q)\n",
    "    m,n=Q.shape\n",
    "    if(norm):\n",
    "        mval,sval=np.mean(Q[:maxM,:]),np.std(Q[:maxM,:])\n",
    "        # Extreme values are capped to mean ± 1.5 std\n",
    "        fact_=1.5\n",
    "        upper=mval+fact_*sval   \n",
    "        lower=mval-fact_*sval\n",
    "        Q[Q>upper]=upper\n",
    "        Q[Q<lower]=lower\n",
    "    wInner=np.ones(inner)\n",
    "    vOuter=np.ones(vouter)\n",
    "    hOuter=np.ones(houter)\n",
    "    #convolution\n",
    "    #for i in range(n):\n",
    "    #    Q[:,i]=Q[:,i]-(np.convolve(Q[:,i],vOuter,'same')-np.convolve(Q[:,i],wInner,'same'))/(vouter-inner)\n",
    "    #for i in range(m):\n",
    "    #    Q[i,:]=Q[i,:]-(np.convolve(Q[i,:],hOuter,'same')-np.convolve(Q[i,:],wInner,'same'))/(houter-inner)\n",
    "\n",
    "    return Q[:maxM,:]"
   ]
  },
  {
   "cell_type": "markdown",
   "metadata": {
    "colab_type": "text",
    "id": "dcF16dN_1V9A"
   },
   "source": [
    "~~###  Preprocessing 2 : noise removal~~ #combine with P1\n"
   ]
  },
  {
   "cell_type": "code",
   "execution_count": 0,
   "metadata": {
    "colab": {},
    "colab_type": "code",
    "id": "bdyhwGgd1V9B"
   },
   "outputs": [],
   "source": []
  },
  {
   "cell_type": "markdown",
   "metadata": {
    "colab_type": "text",
    "id": "bcj-Lorg1V9K"
   },
   "source": [
    "###  Preprocessing 3 : PCEN "
   ]
  },
  {
   "cell_type": "code",
   "execution_count": 18,
   "metadata": {
    "colab": {},
    "colab_type": "code",
    "id": "Tup0dxo51V9M"
   },
   "outputs": [],
   "source": [
    "# please install librosa first\n",
    "# pip install librosa\n",
    "\n",
    "# We recommend scaling the spec data to the range [-2**31, 2**31[ \n",
    "# we use magnitude spectrum instead of a power spectrum.\n",
    "\n",
    "def PCEN(file):\n",
    "    db_img = cv2.imread(file, 0)       \n",
    "    print(np.max(db_img))\n",
    "    # it uses amp_img instead of db\n",
    "    amp_img = librosa.db_to_amplitude(db_img)\n",
    "    amp_img = amp_img/np.max(amp_img)\n",
    "#     print(np.max(amp_img))\n",
    "    \n",
    "# #     log_S = librosa.amplitude_to_db(S, ref=np.max)\n",
    "#     # scale the value to the maximum range\n",
    "    pcen_img = librosa.pcen(amp_img * (2**31))\n",
    "    plt.figure()\n",
    "    plt.subplot(2,1,1)\n",
    "    librosa.display.specshow(db_img, x_axis='time', y_axis='mel')\n",
    "    plt.title('log amplitude (dB)')\n",
    "    plt.colorbar()\n",
    "    plt.subplot(2,1,2)\n",
    "    librosa.display.specshow(pcen_img, x_axis='time', y_axis='mel')\n",
    "    plt.title('Per-channel energy normalization')\n",
    "    plt.colorbar()\n",
    "    plt.tight_layout()\n",
    "    plt.show()\n",
    "    \n",
    "    return pcen_img\n",
    "\n"
   ]
  },
  {
   "cell_type": "markdown",
   "metadata": {
    "colab_type": "text",
    "id": "ZmN7LVla1V9Q"
   },
   "source": [
    "### Preprocessing 4 : template matching"
   ]
  },
  {
   "cell_type": "code",
   "execution_count": 0,
   "metadata": {
    "colab": {},
    "colab_type": "code",
    "id": "T_jQUYto1V9Q"
   },
   "outputs": [],
   "source": []
  },
  {
   "cell_type": "markdown",
   "metadata": {
    "colab_type": "text",
    "id": "AWFtwJVP1V9U"
   },
   "source": [
    "###  Preprocessing 5 : clipping"
   ]
  },
  {
   "cell_type": "code",
   "execution_count": 10,
   "metadata": {
    "colab": {},
    "colab_type": "code",
    "id": "30zJ68AG1V9V"
   },
   "outputs": [],
   "source": [
    "# whale's pitch is between 30 hz ~ 8000 hz    "
   ]
  },
  {
   "cell_type": "markdown",
   "metadata": {
    "colab_type": "text",
    "id": "yEZj3B8Y1V9Y"
   },
   "source": [
    "### Save proprocess data"
   ]
  },
  {
   "cell_type": "code",
   "execution_count": 4,
   "metadata": {
    "colab": {
     "base_uri": "https://localhost:8080/",
     "height": 678
    },
    "colab_type": "code",
    "id": "a0BAbzPp1V9Y",
    "outputId": "37541431-542a-4ba6-9780-640573e0baca"
   },
   "outputs": [],
   "source": [
    "# Shang 5/4 modification\n",
    "def save_transformed_data(src_dir, dst_dir, func, preFE_len, newFE):\n",
    "    # FE -> FileExtension\n",
    "    # preFE_len -> previous FileExtension's length\n",
    "    for filename in os.listdir(src_dir):\n",
    "        try: \n",
    "            src_path = os.path.join(src_dir, filename)\n",
    "            dst_path = os.path.join(dst_dir, filename[:preFE_len] + newFE)\n",
    "            matplotlib.image.imsave(dst_path, func(src_path))\n",
    "        except Exception as e:\n",
    "            print(str(e)+\"  \"+filename)\n",
    "# Shang 5/4 modification ends\n",
    "            "
   ]
  },
  {
   "cell_type": "code",
   "execution_count": 9,
   "metadata": {
    "colab": {
     "base_uri": "https://localhost:8080/",
     "height": 678
    },
    "colab_type": "code",
    "id": "a0BAbzPp1V9Y",
    "outputId": "37541431-542a-4ba6-9780-640573e0baca",
    "scrolled": false
   },
   "outputs": [
    {
     "name": "stderr",
     "output_type": "stream",
     "text": [
      "/Users/daniel/.virtualenvs/AWS/lib/python3.7/site-packages/ipykernel_launcher.py:7: DeprecationWarning: The binary mode of fromstring is deprecated, as it behaves surprisingly on unicode inputs. Use frombuffer instead\n",
      "  import sys\n"
     ]
    },
    {
     "name": "stdout",
     "output_type": "stream",
     "text": [
      "0.0   1000.0\n",
      "0.0   1000.0\n",
      "0.0   1000.0\n",
      "0.0   1000.0\n",
      "0.0   1000.0\n",
      "0.0   1000.0\n",
      "0.0   1000.0\n",
      "0.0   1000.0\n",
      "0.0   1000.0\n",
      "0.0   1000.0\n",
      "0.0   1000.0\n",
      "0.0   1000.0\n",
      "0.0   1000.0\n",
      "0.0   1000.0\n",
      "0.0   1000.0\n",
      "0.0   1000.0\n",
      "0.0   1000.0\n",
      "0.0   1000.0\n",
      "0.0   1000.0\n",
      "0.0   1000.0\n",
      "0.0   1000.0\n",
      "0.0   1000.0\n",
      "0.0   1000.0\n",
      "0.0   1000.0\n",
      "0.0   1000.0\n",
      "0.0   1000.0\n",
      "0.0   1000.0\n",
      "0.0   1000.0\n",
      "0.0   1000.0\n",
      "0.0   1000.0\n",
      "0.0   1000.0\n",
      "0.0   1000.0\n",
      "0.0   1000.0\n",
      "0.0   1000.0\n",
      "0.0   1000.0\n",
      "0.0   1000.0\n",
      "0.0   1000.0\n",
      "0.0   1000.0\n",
      "0.0   1000.0\n",
      "0.0   1000.0\n",
      "0.0   1000.0\n",
      "0.0   1000.0\n",
      "0.0   1000.0\n",
      "0.0   1000.0\n",
      "0.0   1000.0\n",
      "0.0   1000.0\n",
      "0.0   1000.0\n",
      "0.0   1000.0\n",
      "0.0   1000.0\n",
      "0.0   1000.0\n",
      "0.0   1000.0\n",
      "0.0   1000.0\n",
      "0.0   1000.0\n",
      "0.0   1000.0\n",
      "0.0   1000.0\n",
      "0.0   1000.0\n",
      "0.0   1000.0\n",
      "0.0   1000.0\n",
      "0.0   1000.0\n",
      "0.0   1000.0\n",
      "0.0   1000.0\n",
      "0.0   1000.0\n",
      "0.0   1000.0\n",
      "0.0   1000.0\n",
      "0.0   1000.0\n",
      "0.0   1000.0\n",
      "0.0   1000.0\n",
      "0.0   1000.0\n",
      "0.0   1000.0\n",
      "0.0   1000.0\n",
      "0.0   1000.0\n",
      "0.0   1000.0\n",
      "0.0   1000.0\n",
      "0.0   1000.0\n",
      "0.0   1000.0\n",
      "0.0   1000.0\n",
      "0.0   1000.0\n",
      "0.0   1000.0\n",
      "0.0   1000.0\n",
      "0.0   1000.0\n",
      "0.0   1000.0\n",
      "0.0   1000.0\n",
      "0.0   1000.0\n",
      "0.0   1000.0\n",
      "0.0   1000.0\n",
      "0.0   1000.0\n",
      "0.0   1000.0\n",
      "0.0   1000.0\n",
      "0.0   1000.0\n",
      "0.0   1000.0\n",
      "0.0   1000.0\n",
      "0.0   1000.0\n",
      "0.0   1000.0\n",
      "0.0   1000.0\n",
      "0.0   1000.0\n",
      "0.0   1000.0\n",
      "0.0   1000.0\n",
      "0.0   1000.0\n",
      "0.0   1000.0\n",
      "0.0   1000.0\n",
      "0.0   1000.0\n",
      "0.0   1000.0\n",
      "0.0   1000.0\n",
      "0.0   1000.0\n",
      "0.0   1000.0\n",
      "0.0   1000.0\n",
      "0.0   1000.0\n",
      "0.0   1000.0\n",
      "0.0   1000.0\n",
      "0.0   1000.0\n",
      "0.0   1000.0\n",
      "0.0   1000.0\n",
      "0.0   1000.0\n",
      "0.0   1000.0\n",
      "0.0   1000.0\n",
      "0.0   1000.0\n",
      "0.0   1000.0\n",
      "0.0   1000.0\n",
      "0.0   1000.0\n",
      "0.0   1000.0\n",
      "0.0   1000.0\n",
      "0.0   1000.0\n",
      "0.0   1000.0\n",
      "0.0   1000.0\n",
      "0.0   1000.0\n",
      "0.0   1000.0\n",
      "0.0   1000.0\n",
      "0.0   1000.0\n",
      "0.0   1000.0\n",
      "0.0   1000.0\n",
      "0.0   1000.0\n",
      "0.0   1000.0\n",
      "0.0   1000.0\n",
      "0.0   1000.0\n",
      "0.0   1000.0\n",
      "0.0   1000.0\n",
      "0.0   1000.0\n",
      "0.0   1000.0\n",
      "0.0   1000.0\n",
      "0.0   1000.0\n",
      "0.0   1000.0\n",
      "0.0   1000.0\n",
      "0.0   1000.0\n",
      "0.0   1000.0\n",
      "0.0   1000.0\n",
      "0.0   1000.0\n",
      "0.0   1000.0\n",
      "0.0   1000.0\n",
      "0.0   1000.0\n",
      "0.0   1000.0\n",
      "0.0   1000.0\n",
      "0.0   1000.0\n",
      "0.0   1000.0\n",
      "0.0   1000.0\n",
      "0.0   1000.0\n",
      "0.0   1000.0\n",
      "0.0   1000.0\n",
      "0.0   1000.0\n",
      "0.0   1000.0\n",
      "0.0   1000.0\n",
      "0.0   1000.0\n",
      "0.0   1000.0\n",
      "0.0   1000.0\n",
      "0.0   1000.0\n",
      "0.0   1000.0\n",
      "0.0   1000.0\n",
      "0.0   1000.0\n",
      "0.0   1000.0\n",
      "0.0   1000.0\n",
      "0.0   1000.0\n",
      "0.0   1000.0\n",
      "0.0   1000.0\n",
      "0.0   1000.0\n",
      "0.0   1000.0\n",
      "0.0   1000.0\n",
      "0.0   1000.0\n",
      "0.0   1000.0\n",
      "0.0   1000.0\n",
      "0.0   1000.0\n",
      "0.0   1000.0\n",
      "0.0   1000.0\n",
      "0.0   1000.0\n",
      "0.0   1000.0\n",
      "0.0   1000.0\n",
      "0.0   1000.0\n",
      "0.0   1000.0\n",
      "0.0   1000.0\n",
      "0.0   1000.0\n",
      "0.0   1000.0\n",
      "0.0   1000.0\n",
      "0.0   1000.0\n",
      "0.0   1000.0\n",
      "0.0   1000.0\n",
      "0.0   1000.0\n",
      "0.0   1000.0\n",
      "0.0   1000.0\n",
      "0.0   1000.0\n",
      "0.0   1000.0\n",
      "0.0   1000.0\n",
      "0.0   1000.0\n",
      "0.0   1000.0\n",
      "0.0   1000.0\n",
      "0.0   1000.0\n",
      "0.0   1000.0\n",
      "0.0   1000.0\n",
      "0.0   1000.0\n",
      "0.0   1000.0\n",
      "0.0   1000.0\n",
      "0.0   1000.0\n",
      "0.0   1000.0\n",
      "0.0   1000.0\n",
      "0.0   1000.0\n",
      "0.0   1000.0\n",
      "0.0   1000.0\n",
      "0.0   1000.0\n",
      "0.0   1000.0\n",
      "0.0   1000.0\n",
      "0.0   1000.0\n",
      "0.0   1000.0\n",
      "0.0   1000.0\n",
      "0.0   1000.0\n",
      "0.0   1000.0\n",
      "0.0   1000.0\n",
      "0.0   1000.0\n",
      "0.0   1000.0\n",
      "0.0   1000.0\n",
      "0.0   1000.0\n",
      "0.0   1000.0\n",
      "0.0   1000.0\n",
      "0.0   1000.0\n",
      "0.0   1000.0\n",
      "0.0   1000.0\n",
      "0.0   1000.0\n",
      "0.0   1000.0\n",
      "0.0   1000.0\n",
      "0.0   1000.0\n",
      "0.0   1000.0\n",
      "0.0   1000.0\n",
      "0.0   1000.0\n",
      "0.0   1000.0\n",
      "0.0   1000.0\n",
      "0.0   1000.0\n",
      "0.0   1000.0\n",
      "0.0   1000.0\n",
      "0.0   1000.0\n",
      "0.0   1000.0\n",
      "0.0   1000.0\n",
      "0.0   1000.0\n",
      "0.0   1000.0\n",
      "0.0   1000.0\n",
      "0.0   1000.0\n",
      "0.0   1000.0\n",
      "0.0   1000.0\n",
      "0.0   1000.0\n",
      "0.0   1000.0\n",
      "0.0   1000.0\n"
     ]
    },
    {
     "ename": "KeyboardInterrupt",
     "evalue": "",
     "output_type": "error",
     "traceback": [
      "\u001b[0;31m---------------------------------------------------------------------------\u001b[0m",
      "\u001b[0;31mKeyboardInterrupt\u001b[0m                         Traceback (most recent call last)",
      "\u001b[0;32m<ipython-input-9-71acd9057124>\u001b[0m in \u001b[0;36m<module>\u001b[0;34m\u001b[0m\n\u001b[1;32m      5\u001b[0m \u001b[0mtrain_spec_dir\u001b[0m \u001b[0;34m=\u001b[0m \u001b[0;34m'./data/train_spec/'\u001b[0m\u001b[0;34m\u001b[0m\u001b[0;34m\u001b[0m\u001b[0m\n\u001b[1;32m      6\u001b[0m \u001b[0mtest_spec_dir\u001b[0m \u001b[0;34m=\u001b[0m \u001b[0;34m'./data/test_spec/'\u001b[0m\u001b[0;34m\u001b[0m\u001b[0;34m\u001b[0m\u001b[0m\n\u001b[0;32m----> 7\u001b[0;31m \u001b[0msave_transformed_data\u001b[0m\u001b[0;34m(\u001b[0m\u001b[0mtrain_dir\u001b[0m\u001b[0;34m,\u001b[0m\u001b[0mtrain_spec_dir\u001b[0m\u001b[0;34m,\u001b[0m \u001b[0mto_specarray\u001b[0m\u001b[0;34m,\u001b[0m \u001b[0;34m-\u001b[0m\u001b[0;36m5\u001b[0m\u001b[0;34m,\u001b[0m \u001b[0;34m\".png\"\u001b[0m\u001b[0;34m)\u001b[0m\u001b[0;34m\u001b[0m\u001b[0;34m\u001b[0m\u001b[0m\n\u001b[0m\u001b[1;32m      8\u001b[0m \u001b[0msave_transformed_data\u001b[0m\u001b[0;34m(\u001b[0m\u001b[0mtest_dir\u001b[0m\u001b[0;34m,\u001b[0m\u001b[0mtest_spec_dir\u001b[0m\u001b[0;34m,\u001b[0m \u001b[0mto_specarray\u001b[0m\u001b[0;34m,\u001b[0m \u001b[0;34m-\u001b[0m\u001b[0;36m5\u001b[0m\u001b[0;34m,\u001b[0m \u001b[0;34m\".png\"\u001b[0m\u001b[0;34m)\u001b[0m\u001b[0;34m\u001b[0m\u001b[0;34m\u001b[0m\u001b[0m\n",
      "\u001b[0;32m<ipython-input-4-b433f64339e1>\u001b[0m in \u001b[0;36msave_transformed_data\u001b[0;34m(src_dir, dst_dir, func, preFE_len, newFE)\u001b[0m\n\u001b[1;32m      7\u001b[0m             \u001b[0msrc_path\u001b[0m \u001b[0;34m=\u001b[0m \u001b[0mos\u001b[0m\u001b[0;34m.\u001b[0m\u001b[0mpath\u001b[0m\u001b[0;34m.\u001b[0m\u001b[0mjoin\u001b[0m\u001b[0;34m(\u001b[0m\u001b[0msrc_dir\u001b[0m\u001b[0;34m,\u001b[0m \u001b[0mfilename\u001b[0m\u001b[0;34m)\u001b[0m\u001b[0;34m\u001b[0m\u001b[0;34m\u001b[0m\u001b[0m\n\u001b[1;32m      8\u001b[0m             \u001b[0mdst_path\u001b[0m \u001b[0;34m=\u001b[0m \u001b[0mos\u001b[0m\u001b[0;34m.\u001b[0m\u001b[0mpath\u001b[0m\u001b[0;34m.\u001b[0m\u001b[0mjoin\u001b[0m\u001b[0;34m(\u001b[0m\u001b[0mdst_dir\u001b[0m\u001b[0;34m,\u001b[0m \u001b[0mfilename\u001b[0m\u001b[0;34m[\u001b[0m\u001b[0;34m:\u001b[0m\u001b[0mpreFE_len\u001b[0m\u001b[0;34m]\u001b[0m \u001b[0;34m+\u001b[0m \u001b[0mnewFE\u001b[0m\u001b[0;34m)\u001b[0m\u001b[0;34m\u001b[0m\u001b[0;34m\u001b[0m\u001b[0m\n\u001b[0;32m----> 9\u001b[0;31m             \u001b[0mmatplotlib\u001b[0m\u001b[0;34m.\u001b[0m\u001b[0mimage\u001b[0m\u001b[0;34m.\u001b[0m\u001b[0mimsave\u001b[0m\u001b[0;34m(\u001b[0m\u001b[0mdst_path\u001b[0m\u001b[0;34m,\u001b[0m \u001b[0mfunc\u001b[0m\u001b[0;34m(\u001b[0m\u001b[0msrc_path\u001b[0m\u001b[0;34m)\u001b[0m\u001b[0;34m)\u001b[0m\u001b[0;34m\u001b[0m\u001b[0;34m\u001b[0m\u001b[0m\n\u001b[0m\u001b[1;32m     10\u001b[0m         \u001b[0;32mexcept\u001b[0m \u001b[0mException\u001b[0m \u001b[0;32mas\u001b[0m \u001b[0me\u001b[0m\u001b[0;34m:\u001b[0m\u001b[0;34m\u001b[0m\u001b[0;34m\u001b[0m\u001b[0m\n\u001b[1;32m     11\u001b[0m             \u001b[0mprint\u001b[0m\u001b[0;34m(\u001b[0m\u001b[0mstr\u001b[0m\u001b[0;34m(\u001b[0m\u001b[0me\u001b[0m\u001b[0;34m)\u001b[0m\u001b[0;34m+\u001b[0m\u001b[0;34m\"  \"\u001b[0m\u001b[0;34m+\u001b[0m\u001b[0mfilename\u001b[0m\u001b[0;34m)\u001b[0m\u001b[0;34m\u001b[0m\u001b[0;34m\u001b[0m\u001b[0m\n",
      "\u001b[0;32m<ipython-input-8-ffaf05277713>\u001b[0m in \u001b[0;36mto_specarray\u001b[0;34m(filename, mode)\u001b[0m\n\u001b[1;32m      4\u001b[0m     \u001b[0mmy_cmap\u001b[0m \u001b[0;34m=\u001b[0m \u001b[0mmatplotlib\u001b[0m\u001b[0;34m.\u001b[0m\u001b[0mcm\u001b[0m\u001b[0;34m.\u001b[0m\u001b[0mget_cmap\u001b[0m\u001b[0;34m(\u001b[0m\u001b[0;34m'hsv_r'\u001b[0m\u001b[0;34m)\u001b[0m\u001b[0;34m;\u001b[0m\u001b[0;34m\u001b[0m\u001b[0;34m\u001b[0m\u001b[0m\n\u001b[1;32m      5\u001b[0m     \u001b[0mparams\u001b[0m \u001b[0;34m=\u001b[0m \u001b[0;34m{\u001b[0m\u001b[0;34m'NFFT'\u001b[0m\u001b[0;34m:\u001b[0m\u001b[0;36m256\u001b[0m\u001b[0;34m,\u001b[0m \u001b[0;34m'Fs'\u001b[0m\u001b[0;34m:\u001b[0m\u001b[0;36m2000\u001b[0m\u001b[0;34m,\u001b[0m \u001b[0;34m'noverlap'\u001b[0m\u001b[0;34m:\u001b[0m\u001b[0;36m192\u001b[0m\u001b[0;34m,\u001b[0m \u001b[0;34m'cmap'\u001b[0m \u001b[0;34m:\u001b[0m \u001b[0mmy_cmap\u001b[0m\u001b[0;34m,\u001b[0m \u001b[0;34m'mode'\u001b[0m\u001b[0;34m:\u001b[0m \u001b[0mmode\u001b[0m\u001b[0;34m}\u001b[0m\u001b[0;34m\u001b[0m\u001b[0;34m\u001b[0m\u001b[0m\n\u001b[0;32m----> 6\u001b[0;31m     \u001b[0mspectrum\u001b[0m\u001b[0;34m,\u001b[0m \u001b[0mfreq\u001b[0m\u001b[0;34m,\u001b[0m \u001b[0mt\u001b[0m\u001b[0;34m,\u001b[0m \u001b[0mim\u001b[0m \u001b[0;34m=\u001b[0m \u001b[0mplt\u001b[0m\u001b[0;34m.\u001b[0m\u001b[0mspecgram\u001b[0m\u001b[0;34m(\u001b[0m\u001b[0mdata\u001b[0m\u001b[0;34m,\u001b[0m \u001b[0;34m**\u001b[0m\u001b[0mparams\u001b[0m\u001b[0;34m)\u001b[0m\u001b[0;34m;\u001b[0m\u001b[0;34m\u001b[0m\u001b[0;34m\u001b[0m\u001b[0m\n\u001b[0m\u001b[1;32m      7\u001b[0m     \u001b[0mprint\u001b[0m\u001b[0;34m(\u001b[0m\u001b[0mstr\u001b[0m\u001b[0;34m(\u001b[0m\u001b[0mnp\u001b[0m\u001b[0;34m.\u001b[0m\u001b[0mmin\u001b[0m\u001b[0;34m(\u001b[0m\u001b[0mfreq\u001b[0m\u001b[0;34m)\u001b[0m\u001b[0;34m)\u001b[0m\u001b[0;34m+\u001b[0m\u001b[0;34m\"   \"\u001b[0m\u001b[0;34m+\u001b[0m\u001b[0mstr\u001b[0m\u001b[0;34m(\u001b[0m\u001b[0mnp\u001b[0m\u001b[0;34m.\u001b[0m\u001b[0mmax\u001b[0m\u001b[0;34m(\u001b[0m\u001b[0mfreq\u001b[0m\u001b[0;34m)\u001b[0m\u001b[0;34m)\u001b[0m\u001b[0;34m)\u001b[0m\u001b[0;34m\u001b[0m\u001b[0;34m\u001b[0m\u001b[0m\n\u001b[1;32m      8\u001b[0m     \u001b[0;31m#print(type(np.transpose(spectrum)))\u001b[0m\u001b[0;34m\u001b[0m\u001b[0;34m\u001b[0m\u001b[0;34m\u001b[0m\u001b[0m\n",
      "\u001b[0;32m~/.virtualenvs/AWS/lib/python3.7/site-packages/matplotlib/pyplot.py\u001b[0m in \u001b[0;36mspecgram\u001b[0;34m(x, NFFT, Fs, Fc, detrend, window, noverlap, cmap, xextent, pad_to, sides, scale_by_freq, mode, scale, vmin, vmax, data, **kwargs)\u001b[0m\n\u001b[1;32m   2843\u001b[0m         \u001b[0msides\u001b[0m\u001b[0;34m=\u001b[0m\u001b[0msides\u001b[0m\u001b[0;34m,\u001b[0m \u001b[0mscale_by_freq\u001b[0m\u001b[0;34m=\u001b[0m\u001b[0mscale_by_freq\u001b[0m\u001b[0;34m,\u001b[0m \u001b[0mmode\u001b[0m\u001b[0;34m=\u001b[0m\u001b[0mmode\u001b[0m\u001b[0;34m,\u001b[0m\u001b[0;34m\u001b[0m\u001b[0;34m\u001b[0m\u001b[0m\n\u001b[1;32m   2844\u001b[0m         scale=scale, vmin=vmin, vmax=vmax, **({\"data\": data} if data\n\u001b[0;32m-> 2845\u001b[0;31m         is not None else {}), **kwargs)\n\u001b[0m\u001b[1;32m   2846\u001b[0m     \u001b[0msci\u001b[0m\u001b[0;34m(\u001b[0m\u001b[0m__ret\u001b[0m\u001b[0;34m[\u001b[0m\u001b[0;34m-\u001b[0m\u001b[0;36m1\u001b[0m\u001b[0;34m]\u001b[0m\u001b[0;34m)\u001b[0m\u001b[0;34m\u001b[0m\u001b[0;34m\u001b[0m\u001b[0m\n\u001b[1;32m   2847\u001b[0m     \u001b[0;32mreturn\u001b[0m \u001b[0m__ret\u001b[0m\u001b[0;34m\u001b[0m\u001b[0;34m\u001b[0m\u001b[0m\n",
      "\u001b[0;32m~/.virtualenvs/AWS/lib/python3.7/site-packages/matplotlib/__init__.py\u001b[0m in \u001b[0;36minner\u001b[0;34m(ax, data, *args, **kwargs)\u001b[0m\n\u001b[1;32m   1563\u001b[0m     \u001b[0;32mdef\u001b[0m \u001b[0minner\u001b[0m\u001b[0;34m(\u001b[0m\u001b[0max\u001b[0m\u001b[0;34m,\u001b[0m \u001b[0;34m*\u001b[0m\u001b[0margs\u001b[0m\u001b[0;34m,\u001b[0m \u001b[0mdata\u001b[0m\u001b[0;34m=\u001b[0m\u001b[0;32mNone\u001b[0m\u001b[0;34m,\u001b[0m \u001b[0;34m**\u001b[0m\u001b[0mkwargs\u001b[0m\u001b[0;34m)\u001b[0m\u001b[0;34m:\u001b[0m\u001b[0;34m\u001b[0m\u001b[0;34m\u001b[0m\u001b[0m\n\u001b[1;32m   1564\u001b[0m         \u001b[0;32mif\u001b[0m \u001b[0mdata\u001b[0m \u001b[0;32mis\u001b[0m \u001b[0;32mNone\u001b[0m\u001b[0;34m:\u001b[0m\u001b[0;34m\u001b[0m\u001b[0;34m\u001b[0m\u001b[0m\n\u001b[0;32m-> 1565\u001b[0;31m             \u001b[0;32mreturn\u001b[0m \u001b[0mfunc\u001b[0m\u001b[0;34m(\u001b[0m\u001b[0max\u001b[0m\u001b[0;34m,\u001b[0m \u001b[0;34m*\u001b[0m\u001b[0mmap\u001b[0m\u001b[0;34m(\u001b[0m\u001b[0msanitize_sequence\u001b[0m\u001b[0;34m,\u001b[0m \u001b[0margs\u001b[0m\u001b[0;34m)\u001b[0m\u001b[0;34m,\u001b[0m \u001b[0;34m**\u001b[0m\u001b[0mkwargs\u001b[0m\u001b[0;34m)\u001b[0m\u001b[0;34m\u001b[0m\u001b[0;34m\u001b[0m\u001b[0m\n\u001b[0m\u001b[1;32m   1566\u001b[0m \u001b[0;34m\u001b[0m\u001b[0m\n\u001b[1;32m   1567\u001b[0m         \u001b[0mbound\u001b[0m \u001b[0;34m=\u001b[0m \u001b[0mnew_sig\u001b[0m\u001b[0;34m.\u001b[0m\u001b[0mbind\u001b[0m\u001b[0;34m(\u001b[0m\u001b[0max\u001b[0m\u001b[0;34m,\u001b[0m \u001b[0;34m*\u001b[0m\u001b[0margs\u001b[0m\u001b[0;34m,\u001b[0m \u001b[0;34m**\u001b[0m\u001b[0mkwargs\u001b[0m\u001b[0;34m)\u001b[0m\u001b[0;34m\u001b[0m\u001b[0;34m\u001b[0m\u001b[0m\n",
      "\u001b[0;32m~/.virtualenvs/AWS/lib/python3.7/site-packages/matplotlib/axes/_axes.py\u001b[0m in \u001b[0;36mspecgram\u001b[0;34m(self, x, NFFT, Fs, Fc, detrend, window, noverlap, cmap, xextent, pad_to, sides, scale_by_freq, mode, scale, vmin, vmax, **kwargs)\u001b[0m\n\u001b[1;32m   7595\u001b[0m         \u001b[0mextent\u001b[0m \u001b[0;34m=\u001b[0m \u001b[0mxmin\u001b[0m\u001b[0;34m,\u001b[0m \u001b[0mxmax\u001b[0m\u001b[0;34m,\u001b[0m \u001b[0mfreqs\u001b[0m\u001b[0;34m[\u001b[0m\u001b[0;36m0\u001b[0m\u001b[0;34m]\u001b[0m\u001b[0;34m,\u001b[0m \u001b[0mfreqs\u001b[0m\u001b[0;34m[\u001b[0m\u001b[0;34m-\u001b[0m\u001b[0;36m1\u001b[0m\u001b[0;34m]\u001b[0m\u001b[0;34m\u001b[0m\u001b[0;34m\u001b[0m\u001b[0m\n\u001b[1;32m   7596\u001b[0m         im = self.imshow(Z, cmap, extent=extent, vmin=vmin, vmax=vmax,\n\u001b[0;32m-> 7597\u001b[0;31m                          **kwargs)\n\u001b[0m\u001b[1;32m   7598\u001b[0m         \u001b[0mself\u001b[0m\u001b[0;34m.\u001b[0m\u001b[0maxis\u001b[0m\u001b[0;34m(\u001b[0m\u001b[0;34m'auto'\u001b[0m\u001b[0;34m)\u001b[0m\u001b[0;34m\u001b[0m\u001b[0;34m\u001b[0m\u001b[0m\n\u001b[1;32m   7599\u001b[0m \u001b[0;34m\u001b[0m\u001b[0m\n",
      "\u001b[0;32m~/.virtualenvs/AWS/lib/python3.7/site-packages/matplotlib/__init__.py\u001b[0m in \u001b[0;36minner\u001b[0;34m(ax, data, *args, **kwargs)\u001b[0m\n\u001b[1;32m   1563\u001b[0m     \u001b[0;32mdef\u001b[0m \u001b[0minner\u001b[0m\u001b[0;34m(\u001b[0m\u001b[0max\u001b[0m\u001b[0;34m,\u001b[0m \u001b[0;34m*\u001b[0m\u001b[0margs\u001b[0m\u001b[0;34m,\u001b[0m \u001b[0mdata\u001b[0m\u001b[0;34m=\u001b[0m\u001b[0;32mNone\u001b[0m\u001b[0;34m,\u001b[0m \u001b[0;34m**\u001b[0m\u001b[0mkwargs\u001b[0m\u001b[0;34m)\u001b[0m\u001b[0;34m:\u001b[0m\u001b[0;34m\u001b[0m\u001b[0;34m\u001b[0m\u001b[0m\n\u001b[1;32m   1564\u001b[0m         \u001b[0;32mif\u001b[0m \u001b[0mdata\u001b[0m \u001b[0;32mis\u001b[0m \u001b[0;32mNone\u001b[0m\u001b[0;34m:\u001b[0m\u001b[0;34m\u001b[0m\u001b[0;34m\u001b[0m\u001b[0m\n\u001b[0;32m-> 1565\u001b[0;31m             \u001b[0;32mreturn\u001b[0m \u001b[0mfunc\u001b[0m\u001b[0;34m(\u001b[0m\u001b[0max\u001b[0m\u001b[0;34m,\u001b[0m \u001b[0;34m*\u001b[0m\u001b[0mmap\u001b[0m\u001b[0;34m(\u001b[0m\u001b[0msanitize_sequence\u001b[0m\u001b[0;34m,\u001b[0m \u001b[0margs\u001b[0m\u001b[0;34m)\u001b[0m\u001b[0;34m,\u001b[0m \u001b[0;34m**\u001b[0m\u001b[0mkwargs\u001b[0m\u001b[0;34m)\u001b[0m\u001b[0;34m\u001b[0m\u001b[0;34m\u001b[0m\u001b[0m\n\u001b[0m\u001b[1;32m   1566\u001b[0m \u001b[0;34m\u001b[0m\u001b[0m\n\u001b[1;32m   1567\u001b[0m         \u001b[0mbound\u001b[0m \u001b[0;34m=\u001b[0m \u001b[0mnew_sig\u001b[0m\u001b[0;34m.\u001b[0m\u001b[0mbind\u001b[0m\u001b[0;34m(\u001b[0m\u001b[0max\u001b[0m\u001b[0;34m,\u001b[0m \u001b[0;34m*\u001b[0m\u001b[0margs\u001b[0m\u001b[0;34m,\u001b[0m \u001b[0;34m**\u001b[0m\u001b[0mkwargs\u001b[0m\u001b[0;34m)\u001b[0m\u001b[0;34m\u001b[0m\u001b[0;34m\u001b[0m\u001b[0m\n",
      "\u001b[0;32m~/.virtualenvs/AWS/lib/python3.7/site-packages/matplotlib/cbook/deprecation.py\u001b[0m in \u001b[0;36mwrapper\u001b[0;34m(*args, **kwargs)\u001b[0m\n\u001b[1;32m    356\u001b[0m                 \u001b[0;34mf\"%(removal)s.  If any parameter follows {name!r}, they \"\u001b[0m\u001b[0;34m\u001b[0m\u001b[0;34m\u001b[0m\u001b[0m\n\u001b[1;32m    357\u001b[0m                 f\"should be pass as keyword, not positionally.\")\n\u001b[0;32m--> 358\u001b[0;31m         \u001b[0;32mreturn\u001b[0m \u001b[0mfunc\u001b[0m\u001b[0;34m(\u001b[0m\u001b[0;34m*\u001b[0m\u001b[0margs\u001b[0m\u001b[0;34m,\u001b[0m \u001b[0;34m**\u001b[0m\u001b[0mkwargs\u001b[0m\u001b[0;34m)\u001b[0m\u001b[0;34m\u001b[0m\u001b[0;34m\u001b[0m\u001b[0m\n\u001b[0m\u001b[1;32m    359\u001b[0m \u001b[0;34m\u001b[0m\u001b[0m\n\u001b[1;32m    360\u001b[0m     \u001b[0;32mreturn\u001b[0m \u001b[0mwrapper\u001b[0m\u001b[0;34m\u001b[0m\u001b[0;34m\u001b[0m\u001b[0m\n",
      "\u001b[0;32m~/.virtualenvs/AWS/lib/python3.7/site-packages/matplotlib/cbook/deprecation.py\u001b[0m in \u001b[0;36mwrapper\u001b[0;34m(*args, **kwargs)\u001b[0m\n\u001b[1;32m    356\u001b[0m                 \u001b[0;34mf\"%(removal)s.  If any parameter follows {name!r}, they \"\u001b[0m\u001b[0;34m\u001b[0m\u001b[0;34m\u001b[0m\u001b[0m\n\u001b[1;32m    357\u001b[0m                 f\"should be pass as keyword, not positionally.\")\n\u001b[0;32m--> 358\u001b[0;31m         \u001b[0;32mreturn\u001b[0m \u001b[0mfunc\u001b[0m\u001b[0;34m(\u001b[0m\u001b[0;34m*\u001b[0m\u001b[0margs\u001b[0m\u001b[0;34m,\u001b[0m \u001b[0;34m**\u001b[0m\u001b[0mkwargs\u001b[0m\u001b[0;34m)\u001b[0m\u001b[0;34m\u001b[0m\u001b[0;34m\u001b[0m\u001b[0m\n\u001b[0m\u001b[1;32m    359\u001b[0m \u001b[0;34m\u001b[0m\u001b[0m\n\u001b[1;32m    360\u001b[0m     \u001b[0;32mreturn\u001b[0m \u001b[0mwrapper\u001b[0m\u001b[0;34m\u001b[0m\u001b[0;34m\u001b[0m\u001b[0m\n",
      "\u001b[0;32m~/.virtualenvs/AWS/lib/python3.7/site-packages/matplotlib/axes/_axes.py\u001b[0m in \u001b[0;36mimshow\u001b[0;34m(self, X, cmap, norm, aspect, interpolation, alpha, vmin, vmax, origin, extent, shape, filternorm, filterrad, imlim, resample, url, **kwargs)\u001b[0m\n\u001b[1;32m   5617\u001b[0m         \u001b[0;32mif\u001b[0m \u001b[0mim\u001b[0m\u001b[0;34m.\u001b[0m\u001b[0mget_clip_path\u001b[0m\u001b[0;34m(\u001b[0m\u001b[0;34m)\u001b[0m \u001b[0;32mis\u001b[0m \u001b[0;32mNone\u001b[0m\u001b[0;34m:\u001b[0m\u001b[0;34m\u001b[0m\u001b[0;34m\u001b[0m\u001b[0m\n\u001b[1;32m   5618\u001b[0m             \u001b[0;31m# image does not already have clipping set, clip to axes patch\u001b[0m\u001b[0;34m\u001b[0m\u001b[0;34m\u001b[0m\u001b[0;34m\u001b[0m\u001b[0m\n\u001b[0;32m-> 5619\u001b[0;31m             \u001b[0mim\u001b[0m\u001b[0;34m.\u001b[0m\u001b[0mset_clip_path\u001b[0m\u001b[0;34m(\u001b[0m\u001b[0mself\u001b[0m\u001b[0;34m.\u001b[0m\u001b[0mpatch\u001b[0m\u001b[0;34m)\u001b[0m\u001b[0;34m\u001b[0m\u001b[0;34m\u001b[0m\u001b[0m\n\u001b[0m\u001b[1;32m   5620\u001b[0m         \u001b[0;32mif\u001b[0m \u001b[0mvmin\u001b[0m \u001b[0;32mis\u001b[0m \u001b[0;32mnot\u001b[0m \u001b[0;32mNone\u001b[0m \u001b[0;32mor\u001b[0m \u001b[0mvmax\u001b[0m \u001b[0;32mis\u001b[0m \u001b[0;32mnot\u001b[0m \u001b[0;32mNone\u001b[0m\u001b[0;34m:\u001b[0m\u001b[0;34m\u001b[0m\u001b[0;34m\u001b[0m\u001b[0m\n\u001b[1;32m   5621\u001b[0m             \u001b[0mim\u001b[0m\u001b[0;34m.\u001b[0m\u001b[0mset_clim\u001b[0m\u001b[0;34m(\u001b[0m\u001b[0mvmin\u001b[0m\u001b[0;34m,\u001b[0m \u001b[0mvmax\u001b[0m\u001b[0;34m)\u001b[0m\u001b[0;34m\u001b[0m\u001b[0;34m\u001b[0m\u001b[0m\n",
      "\u001b[0;32m~/.virtualenvs/AWS/lib/python3.7/site-packages/matplotlib/artist.py\u001b[0m in \u001b[0;36mset_clip_path\u001b[0;34m(self, path, transform)\u001b[0m\n\u001b[1;32m    760\u001b[0m             \u001b[0;32mif\u001b[0m \u001b[0misinstance\u001b[0m\u001b[0;34m(\u001b[0m\u001b[0mpath\u001b[0m\u001b[0;34m,\u001b[0m \u001b[0mRectangle\u001b[0m\u001b[0;34m)\u001b[0m\u001b[0;34m:\u001b[0m\u001b[0;34m\u001b[0m\u001b[0;34m\u001b[0m\u001b[0m\n\u001b[1;32m    761\u001b[0m                 self.clipbox = TransformedBbox(Bbox.unit(),\n\u001b[0;32m--> 762\u001b[0;31m                                                path.get_transform())\n\u001b[0m\u001b[1;32m    763\u001b[0m                 \u001b[0mself\u001b[0m\u001b[0;34m.\u001b[0m\u001b[0m_clippath\u001b[0m \u001b[0;34m=\u001b[0m \u001b[0;32mNone\u001b[0m\u001b[0;34m\u001b[0m\u001b[0;34m\u001b[0m\u001b[0m\n\u001b[1;32m    764\u001b[0m                 \u001b[0msuccess\u001b[0m \u001b[0;34m=\u001b[0m \u001b[0;32mTrue\u001b[0m\u001b[0;34m\u001b[0m\u001b[0;34m\u001b[0m\u001b[0m\n",
      "\u001b[0;32m~/.virtualenvs/AWS/lib/python3.7/site-packages/matplotlib/patches.py\u001b[0m in \u001b[0;36mget_transform\u001b[0;34m(self)\u001b[0m\n\u001b[1;32m    260\u001b[0m     \u001b[0;32mdef\u001b[0m \u001b[0mget_transform\u001b[0m\u001b[0;34m(\u001b[0m\u001b[0mself\u001b[0m\u001b[0;34m)\u001b[0m\u001b[0;34m:\u001b[0m\u001b[0;34m\u001b[0m\u001b[0;34m\u001b[0m\u001b[0m\n\u001b[1;32m    261\u001b[0m         \u001b[0;34m\"\"\"Return the `~.transforms.Transform` applied to the `Patch`.\"\"\"\u001b[0m\u001b[0;34m\u001b[0m\u001b[0;34m\u001b[0m\u001b[0m\n\u001b[0;32m--> 262\u001b[0;31m         \u001b[0;32mreturn\u001b[0m \u001b[0mself\u001b[0m\u001b[0;34m.\u001b[0m\u001b[0mget_patch_transform\u001b[0m\u001b[0;34m(\u001b[0m\u001b[0;34m)\u001b[0m \u001b[0;34m+\u001b[0m \u001b[0martist\u001b[0m\u001b[0;34m.\u001b[0m\u001b[0mArtist\u001b[0m\u001b[0;34m.\u001b[0m\u001b[0mget_transform\u001b[0m\u001b[0;34m(\u001b[0m\u001b[0mself\u001b[0m\u001b[0;34m)\u001b[0m\u001b[0;34m\u001b[0m\u001b[0;34m\u001b[0m\u001b[0m\n\u001b[0m\u001b[1;32m    263\u001b[0m \u001b[0;34m\u001b[0m\u001b[0m\n\u001b[1;32m    264\u001b[0m     \u001b[0;32mdef\u001b[0m \u001b[0mget_data_transform\u001b[0m\u001b[0;34m(\u001b[0m\u001b[0mself\u001b[0m\u001b[0;34m)\u001b[0m\u001b[0;34m:\u001b[0m\u001b[0;34m\u001b[0m\u001b[0;34m\u001b[0m\u001b[0m\n",
      "\u001b[0;32m~/.virtualenvs/AWS/lib/python3.7/site-packages/matplotlib/patches.py\u001b[0m in \u001b[0;36mget_patch_transform\u001b[0;34m(self)\u001b[0m\n\u001b[1;32m    775\u001b[0m \u001b[0;34m\u001b[0m\u001b[0m\n\u001b[1;32m    776\u001b[0m     \u001b[0;32mdef\u001b[0m \u001b[0mget_patch_transform\u001b[0m\u001b[0;34m(\u001b[0m\u001b[0mself\u001b[0m\u001b[0;34m)\u001b[0m\u001b[0;34m:\u001b[0m\u001b[0;34m\u001b[0m\u001b[0;34m\u001b[0m\u001b[0m\n\u001b[0;32m--> 777\u001b[0;31m         \u001b[0mself\u001b[0m\u001b[0;34m.\u001b[0m\u001b[0m_update_patch_transform\u001b[0m\u001b[0;34m(\u001b[0m\u001b[0;34m)\u001b[0m\u001b[0;34m\u001b[0m\u001b[0;34m\u001b[0m\u001b[0m\n\u001b[0m\u001b[1;32m    778\u001b[0m         \u001b[0;32mreturn\u001b[0m \u001b[0mself\u001b[0m\u001b[0;34m.\u001b[0m\u001b[0m_rect_transform\u001b[0m\u001b[0;34m\u001b[0m\u001b[0;34m\u001b[0m\u001b[0m\n\u001b[1;32m    779\u001b[0m \u001b[0;34m\u001b[0m\u001b[0m\n",
      "\u001b[0;32m~/.virtualenvs/AWS/lib/python3.7/site-packages/matplotlib/patches.py\u001b[0m in \u001b[0;36m_update_patch_transform\u001b[0;34m(self)\u001b[0m\n\u001b[1;32m    756\u001b[0m         \u001b[0mbbox\u001b[0m \u001b[0;34m=\u001b[0m \u001b[0mtransforms\u001b[0m\u001b[0;34m.\u001b[0m\u001b[0mBbox\u001b[0m\u001b[0;34m.\u001b[0m\u001b[0mfrom_extents\u001b[0m\u001b[0;34m(\u001b[0m\u001b[0mx0\u001b[0m\u001b[0;34m,\u001b[0m \u001b[0my0\u001b[0m\u001b[0;34m,\u001b[0m \u001b[0mx1\u001b[0m\u001b[0;34m,\u001b[0m \u001b[0my1\u001b[0m\u001b[0;34m)\u001b[0m\u001b[0;34m\u001b[0m\u001b[0;34m\u001b[0m\u001b[0m\n\u001b[1;32m    757\u001b[0m         \u001b[0mrot_trans\u001b[0m \u001b[0;34m=\u001b[0m \u001b[0mtransforms\u001b[0m\u001b[0;34m.\u001b[0m\u001b[0mAffine2D\u001b[0m\u001b[0;34m(\u001b[0m\u001b[0;34m)\u001b[0m\u001b[0;34m\u001b[0m\u001b[0;34m\u001b[0m\u001b[0m\n\u001b[0;32m--> 758\u001b[0;31m         \u001b[0mrot_trans\u001b[0m\u001b[0;34m.\u001b[0m\u001b[0mrotate_deg_around\u001b[0m\u001b[0;34m(\u001b[0m\u001b[0mx0\u001b[0m\u001b[0;34m,\u001b[0m \u001b[0my0\u001b[0m\u001b[0;34m,\u001b[0m \u001b[0mself\u001b[0m\u001b[0;34m.\u001b[0m\u001b[0mangle\u001b[0m\u001b[0;34m)\u001b[0m\u001b[0;34m\u001b[0m\u001b[0;34m\u001b[0m\u001b[0m\n\u001b[0m\u001b[1;32m    759\u001b[0m         \u001b[0mself\u001b[0m\u001b[0;34m.\u001b[0m\u001b[0m_rect_transform\u001b[0m \u001b[0;34m=\u001b[0m \u001b[0mtransforms\u001b[0m\u001b[0;34m.\u001b[0m\u001b[0mBboxTransformTo\u001b[0m\u001b[0;34m(\u001b[0m\u001b[0mbbox\u001b[0m\u001b[0;34m)\u001b[0m\u001b[0;34m\u001b[0m\u001b[0;34m\u001b[0m\u001b[0m\n\u001b[1;32m    760\u001b[0m         \u001b[0mself\u001b[0m\u001b[0;34m.\u001b[0m\u001b[0m_rect_transform\u001b[0m \u001b[0;34m+=\u001b[0m \u001b[0mrot_trans\u001b[0m\u001b[0;34m\u001b[0m\u001b[0;34m\u001b[0m\u001b[0m\n",
      "\u001b[0;32m~/.virtualenvs/AWS/lib/python3.7/site-packages/matplotlib/transforms.py\u001b[0m in \u001b[0;36mrotate_deg_around\u001b[0;34m(self, x, y, degrees)\u001b[0m\n\u001b[1;32m   1968\u001b[0m         \u001b[0;31m# Cast to float to avoid wraparound issues with uint8's\u001b[0m\u001b[0;34m\u001b[0m\u001b[0;34m\u001b[0m\u001b[0;34m\u001b[0m\u001b[0m\n\u001b[1;32m   1969\u001b[0m         \u001b[0mx\u001b[0m\u001b[0;34m,\u001b[0m \u001b[0my\u001b[0m \u001b[0;34m=\u001b[0m \u001b[0mfloat\u001b[0m\u001b[0;34m(\u001b[0m\u001b[0mx\u001b[0m\u001b[0;34m)\u001b[0m\u001b[0;34m,\u001b[0m \u001b[0mfloat\u001b[0m\u001b[0;34m(\u001b[0m\u001b[0my\u001b[0m\u001b[0;34m)\u001b[0m\u001b[0;34m\u001b[0m\u001b[0;34m\u001b[0m\u001b[0m\n\u001b[0;32m-> 1970\u001b[0;31m         \u001b[0;32mreturn\u001b[0m \u001b[0mself\u001b[0m\u001b[0;34m.\u001b[0m\u001b[0mtranslate\u001b[0m\u001b[0;34m(\u001b[0m\u001b[0;34m-\u001b[0m\u001b[0mx\u001b[0m\u001b[0;34m,\u001b[0m \u001b[0;34m-\u001b[0m\u001b[0my\u001b[0m\u001b[0;34m)\u001b[0m\u001b[0;34m.\u001b[0m\u001b[0mrotate_deg\u001b[0m\u001b[0;34m(\u001b[0m\u001b[0mdegrees\u001b[0m\u001b[0;34m)\u001b[0m\u001b[0;34m.\u001b[0m\u001b[0mtranslate\u001b[0m\u001b[0;34m(\u001b[0m\u001b[0mx\u001b[0m\u001b[0;34m,\u001b[0m \u001b[0my\u001b[0m\u001b[0;34m)\u001b[0m\u001b[0;34m\u001b[0m\u001b[0;34m\u001b[0m\u001b[0m\n\u001b[0m\u001b[1;32m   1971\u001b[0m \u001b[0;34m\u001b[0m\u001b[0m\n\u001b[1;32m   1972\u001b[0m     \u001b[0;32mdef\u001b[0m \u001b[0mtranslate\u001b[0m\u001b[0;34m(\u001b[0m\u001b[0mself\u001b[0m\u001b[0;34m,\u001b[0m \u001b[0mtx\u001b[0m\u001b[0;34m,\u001b[0m \u001b[0mty\u001b[0m\u001b[0;34m)\u001b[0m\u001b[0;34m:\u001b[0m\u001b[0;34m\u001b[0m\u001b[0;34m\u001b[0m\u001b[0m\n",
      "\u001b[0;32m~/.virtualenvs/AWS/lib/python3.7/site-packages/matplotlib/transforms.py\u001b[0m in \u001b[0;36mtranslate\u001b[0;34m(self, tx, ty)\u001b[0m\n\u001b[1;32m   1970\u001b[0m         \u001b[0;32mreturn\u001b[0m \u001b[0mself\u001b[0m\u001b[0;34m.\u001b[0m\u001b[0mtranslate\u001b[0m\u001b[0;34m(\u001b[0m\u001b[0;34m-\u001b[0m\u001b[0mx\u001b[0m\u001b[0;34m,\u001b[0m \u001b[0;34m-\u001b[0m\u001b[0my\u001b[0m\u001b[0;34m)\u001b[0m\u001b[0;34m.\u001b[0m\u001b[0mrotate_deg\u001b[0m\u001b[0;34m(\u001b[0m\u001b[0mdegrees\u001b[0m\u001b[0;34m)\u001b[0m\u001b[0;34m.\u001b[0m\u001b[0mtranslate\u001b[0m\u001b[0;34m(\u001b[0m\u001b[0mx\u001b[0m\u001b[0;34m,\u001b[0m \u001b[0my\u001b[0m\u001b[0;34m)\u001b[0m\u001b[0;34m\u001b[0m\u001b[0;34m\u001b[0m\u001b[0m\n\u001b[1;32m   1971\u001b[0m \u001b[0;34m\u001b[0m\u001b[0m\n\u001b[0;32m-> 1972\u001b[0;31m     \u001b[0;32mdef\u001b[0m \u001b[0mtranslate\u001b[0m\u001b[0;34m(\u001b[0m\u001b[0mself\u001b[0m\u001b[0;34m,\u001b[0m \u001b[0mtx\u001b[0m\u001b[0;34m,\u001b[0m \u001b[0mty\u001b[0m\u001b[0;34m)\u001b[0m\u001b[0;34m:\u001b[0m\u001b[0;34m\u001b[0m\u001b[0;34m\u001b[0m\u001b[0m\n\u001b[0m\u001b[1;32m   1973\u001b[0m         \"\"\"\n\u001b[1;32m   1974\u001b[0m         \u001b[0mAdds\u001b[0m \u001b[0ma\u001b[0m \u001b[0mtranslation\u001b[0m \u001b[0;32min\u001b[0m \u001b[0mplace\u001b[0m\u001b[0;34m.\u001b[0m\u001b[0;34m\u001b[0m\u001b[0;34m\u001b[0m\u001b[0m\n",
      "\u001b[0;31mKeyboardInterrupt\u001b[0m: "
     ]
    },
    {
     "data": {
      "image/png": "[encoded data removed]",
      "text/plain": [
       "<Figure size 432x288 with 1 Axes>"
      ]
     },
     "metadata": {
      "needs_background": "light"
     },
     "output_type": "display_data"
    }
   ],
   "source": [
    "# chi-shin's part\n",
    "# to spectrom\n",
    "train_dir = './data/train/'\n",
    "test_dir = './data/test/'\n",
    "train_spec_dir = './data/train_spec/'\n",
    "test_spec_dir = './data/test_spec/'\n",
    "save_transformed_data(train_dir,train_spec_dir, to_specarray, -5, \".png\")\n",
    "save_transformed_data(test_dir,test_spec_dir, to_specarray, -5, \".png\")"
   ]
  },
  {
   "cell_type": "code",
   "execution_count": 51,
   "metadata": {
    "colab": {},
    "colab_type": "code",
    "collapsed": true,
    "id": "MpkPlMoZqsKl"
   },
   "outputs": [
    {
     "name": "stdout",
     "output_type": "stream",
     "text": [
      "Saving to pn requires Pillow  train19482.png\n",
      "Saving to pn requires Pillow  train28887.png\n",
      "Saving to pn requires Pillow  train18944.png\n",
      "Saving to pn requires Pillow  train1760.png\n",
      "Saving to pn requires Pillow  train26672.png\n",
      "Saving to pn requires Pillow  train29541.png\n",
      "Saving to pn requires Pillow  train16969.png\n",
      "Saving to pn requires Pillow  train8022.png\n",
      "Saving to pn requires Pillow  train7311.png\n",
      "Saving to pn requires Pillow  train20203.png\n",
      "Saving to pn requires Pillow  train4618.png\n",
      "Saving to pn requires Pillow  train3177.png\n",
      "Saving to pn requires Pillow  train24065.png\n",
      "Saving to pn requires Pillow  train2269.png\n",
      "Saving to pn requires Pillow  train5506.png\n",
      "Saving to pn requires Pillow  train22414.png\n",
      "Saving to pn requires Pillow  train13811.png\n",
      "Saving to pn requires Pillow  train5260.png\n",
      "Saving to pn requires Pillow  train22372.png\n",
      "Saving to pn requires Pillow  train14818.png\n",
      "Saving to pn requires Pillow  train3611.png\n",
      "Saving to pn requires Pillow  train24703.png\n",
      "Saving to pn requires Pillow  train8744.png\n",
      "Saving to pn requires Pillow  train11960.png\n",
      "Saving to pn requires Pillow  train7477.png\n",
      "Saving to pn requires Pillow  train20565.png\n",
      "Saving to pn requires Pillow  train28139.png\n",
      "Saving to pn requires Pillow  train1006.png\n",
      "Saving to pn requires Pillow  train26114.png\n",
      "Saving to pn requires Pillow  train29227.png\n",
      "Saving to pn requires Pillow  train6769.png\n",
      "Saving to pn requires Pillow  train11974.png\n",
      "Saving to pn requires Pillow  train8750.png\n",
      "Saving to pn requires Pillow  train20571.png\n",
      "Saving to pn requires Pillow  train7463.png\n",
      "Saving to pn requires Pillow  train8988.png\n",
      "Saving to pn requires Pillow  train26100.png\n",
      "Saving to pn requires Pillow  train1012.png\n",
      "Saving to pn requires Pillow  train29233.png\n",
      "Saving to pn requires Pillow  train22366.png\n",
      "Saving to pn requires Pillow  train5274.png\n",
      "Saving to pn requires Pillow  train25409.png\n",
      "Saving to pn requires Pillow  train24717.png\n",
      "Saving to pn requires Pillow  train3605.png\n",
      "Saving to pn requires Pillow  train23078.png\n",
      "Saving to pn requires Pillow  train24071.png\n",
      "Saving to pn requires Pillow  train3163.png\n",
      "Saving to pn requires Pillow  train22400.png\n",
      "Saving to pn requires Pillow  train5512.png\n",
      "Saving to pn requires Pillow  train13805.png\n",
      "Saving to pn requires Pillow  train19496.png\n",
      "Saving to pn requires Pillow  train9328.png\n",
      "Saving to pn requires Pillow  train21109.png\n",
      "Saving to pn requires Pillow  train28893.png\n",
      "Saving to pn requires Pillow  train26666.png\n",
      "Saving to pn requires Pillow  train1774.png\n",
      "Saving to pn requires Pillow  train18950.png\n",
      "Saving to pn requires Pillow  train29555.png\n",
      "Saving to pn requires Pillow  train27578.png\n",
      "Saving to pn requires Pillow  train8036.png\n",
      "Saving to pn requires Pillow  train18788.png\n",
      "Saving to pn requires Pillow  train20217.png\n",
      "Saving to pn requires Pillow  train7305.png\n",
      "Saving to pn requires Pillow  train23736.png\n",
      "Saving to pn requires Pillow  train4624.png\n",
      "Saving to pn requires Pillow  train24059.png\n",
      "Saving to pn requires Pillow  train25347.png\n",
      "Saving to pn requires Pillow  train2255.png\n",
      "Saving to pn requires Pillow  train22428.png\n",
      "Saving to pn requires Pillow  train15284.png\n",
      "Saving to pn requires Pillow  train21121.png\n",
      "Saving to pn requires Pillow  train6033.png\n",
      "Saving to pn requires Pillow  train9300.png\n",
      "Saving to pn requires Pillow  train18978.png\n",
      "Saving to pn requires Pillow  train28663.png\n",
      "Saving to pn requires Pillow  train16955.png\n",
      "Saving to pn requires Pillow  train27550.png\n",
      "Saving to pn requires Pillow  train17493.png\n",
      "Saving to pn requires Pillow  train26896.png\n",
      "Saving to pn requires Pillow  train1984.png\n",
      "Saving to pn requires Pillow  train20559.png\n",
      "Saving to pn requires Pillow  train8778.png\n",
      "Saving to pn requires Pillow  train28105.png\n",
      "Saving to pn requires Pillow  train27236.png\n",
      "Saving to pn requires Pillow  train26128.png\n",
      "Saving to pn requires Pillow  train11784.png\n",
      "Saving to pn requires Pillow  train21647.png\n",
      "Saving to pn requires Pillow  train6755.png\n",
      "Saving to pn requires Pillow  train9466.png\n",
      "Saving to pn requires Pillow  train25421.png\n",
      "Saving to pn requires Pillow  train2533.png\n",
      "Saving to pn requires Pillow  train14824.png\n",
      "Saving to pn requires Pillow  train13193.png\n",
      "Saving to pn requires Pillow  train23050.png\n",
      "Saving to pn requires Pillow  train4142.png\n",
      "Saving to pn requires Pillow  train5248.png\n",
      "Saving to pn requires Pillow  train2527.png\n",
      "Saving to pn requires Pillow  train25435.png\n",
      "Saving to pn requires Pillow  train12299.png\n",
      "Saving to pn requires Pillow  train14830.png\n",
      "Saving to pn requires Pillow  train13187.png\n",
      "Saving to pn requires Pillow  train3639.png\n",
      "Saving to pn requires Pillow  train4156.png\n",
      "Saving to pn requires Pillow  train23044.png\n",
      "Saving to pn requires Pillow  train11948.png\n",
      "Saving to pn requires Pillow  train6999.png\n",
      "Saving to pn requires Pillow  train28111.png\n",
      "Saving to pn requires Pillow  train27222.png\n",
      "Saving to pn requires Pillow  train11790.png\n",
      "Saving to pn requires Pillow  train6741.png\n",
      "Saving to pn requires Pillow  train21653.png\n",
      "Saving to pn requires Pillow  train9472.png\n",
      "Saving to pn requires Pillow  train6027.png\n",
      "Saving to pn requires Pillow  train21135.png\n",
      "Saving to pn requires Pillow  train16799.png\n",
      "Saving to pn requires Pillow  train9314.png\n",
      "Saving to pn requires Pillow  train29569.png\n",
      "Saving to pn requires Pillow  train1748.png\n",
      "Saving to pn requires Pillow  train16941.png\n",
      "Saving to pn requires Pillow  train28677.png\n",
      "Saving to pn requires Pillow  train27544.png\n",
      "Saving to pn requires Pillow  train17487.png\n",
      "Saving to pn requires Pillow  train7339.png\n",
      "Saving to pn requires Pillow  train1990.png\n",
      "Saving to pn requires Pillow  train26882.png\n",
      "Saving to pn requires Pillow  train4630.png\n",
      "Saving to pn requires Pillow  train23722.png\n",
      "Saving to pn requires Pillow  train2241.png\n",
      "Saving to pn requires Pillow  train25353.png\n",
      "Saving to pn requires Pillow  train13839.png\n",
      "Saving to pn requires Pillow  train15290.png\n",
      "Saving to pn requires Pillow  train23911.png\n",
      "Saving to pn requires Pillow  train4803.png\n",
      "Saving to pn requires Pillow  train12514.png\n",
      "Saving to pn requires Pillow  train507.png\n",
      "Saving to pn requires Pillow  train14165.png\n",
      "Saving to pn requires Pillow  train10303.png\n",
      "Saving to pn requires Pillow  train26869.png\n",
      "Saving to pn requires Pillow  train19441.png\n",
      "Saving to pn requires Pillow  train16772.png\n",
      "Saving to pn requires Pillow  train28844.png\n",
      "Saving to pn requires Pillow  train18987.png\n",
      "Saving to pn requires Pillow  train29582.png\n",
      "Saving to pn requires Pillow  train19327.png\n",
      "Saving to pn requires Pillow  train9499.png\n",
      "Saving to pn requires Pillow  train16014.png\n",
      "Saving to pn requires Pillow  train8787.png\n",
      "Saving to pn requires Pillow  train18039.png\n",
      "Saving to pn requires Pillow  train10465.png\n",
      "Saving to pn requires Pillow  train21860.png\n",
      "Saving to pn requires Pillow  train6972.png\n",
      "Saving to pn requires Pillow  train261.png\n",
      "Saving to pn requires Pillow  train14603.png\n",
      "Saving to pn requires Pillow  train24918.png\n",
      "Saving to pn requires Pillow  train12272.png\n",
      "Saving to pn requires Pillow  train13178.png\n",
      "Saving to pn requires Pillow  train14617.png\n",
      "Saving to pn requires Pillow  train275.png\n",
      "Saving to pn requires Pillow  train15509.png\n",
      "Saving to pn requires Pillow  train12266.png\n"
     ]
    },
    {
     "ename": "KeyboardInterrupt",
     "evalue": "",
     "output_type": "error",
     "traceback": [
      "\u001b[0;31m--------------------------------------\u001b[0m",
      "\u001b[0;31mKeyboardInterrupt\u001b[0mTraceback (most recent call last)",
      "\u001b[0;32m<ipython-input-51-caa1bc5a531d>\u001b[0m in \u001b[0;36m<module>\u001b[0;34m\u001b[0m\n\u001b[1;32m      4\u001b[0m \u001b[0mtrain_filt_dir\u001b[0m \u001b[0;34m=\u001b[0m \u001b[0;34m'./data/train_filter/'\u001b[0m\u001b[0;34m\u001b[0m\u001b[0;34m\u001b[0m\u001b[0m\n\u001b[1;32m      5\u001b[0m \u001b[0mtest_filt_dir\u001b[0m \u001b[0;34m=\u001b[0m \u001b[0;34m'./data/test_filter/'\u001b[0m\u001b[0;34m\u001b[0m\u001b[0;34m\u001b[0m\u001b[0m\n\u001b[0;32m----> 6\u001b[0;31m \u001b[0msave_transformed_data\u001b[0m\u001b[0;34m(\u001b[0m\u001b[0mtrain_spec_dir\u001b[0m\u001b[0;34m,\u001b[0m \u001b[0mtrain_filt_dir\u001b[0m\u001b[0;34m,\u001b[0m \u001b[0mnoiseFilter\u001b[0m\u001b[0;34m,\u001b[0m \u001b[0;34m-\u001b[0m\u001b[0;36m1\u001b[0m\u001b[0;34m,\u001b[0m \u001b[0;34m\"\"\u001b[0m\u001b[0;34m)\u001b[0m\u001b[0;34m\u001b[0m\u001b[0;34m\u001b[0m\u001b[0m\n\u001b[0m\u001b[1;32m      7\u001b[0m \u001b[0mprint\u001b[0m\u001b[0;34m(\u001b[0m\u001b[0;34m'train finished'\u001b[0m\u001b[0;34m)\u001b[0m\u001b[0;34m\u001b[0m\u001b[0;34m\u001b[0m\u001b[0m\n\u001b[1;32m      8\u001b[0m \u001b[0msave_transformed_data\u001b[0m\u001b[0;34m(\u001b[0m\u001b[0mtest_spec_dir\u001b[0m\u001b[0;34m,\u001b[0m \u001b[0mtest_filt_dir\u001b[0m\u001b[0;34m,\u001b[0m \u001b[0mnoiseFilter\u001b[0m\u001b[0;34m,\u001b[0m \u001b[0;34m-\u001b[0m\u001b[0;36m1\u001b[0m\u001b[0;34m,\u001b[0m \u001b[0;34m\"\"\u001b[0m\u001b[0;34m)\u001b[0m\u001b[0;34m\u001b[0m\u001b[0;34m\u001b[0m\u001b[0m\n",
      "\u001b[0;32m<ipython-input-47-86fb28c69c0c>\u001b[0m in \u001b[0;36msave_transformed_data\u001b[0;34m(src_dir, dst_dir, func, preFE_len, newFE)\u001b[0m\n\u001b[1;32m      7\u001b[0m             \u001b[0msrc_path\u001b[0m\u001b[0;34m=\u001b[0m\u001b[0mos\u001b[0m\u001b[0;34m.\u001b[0m\u001b[0mpath\u001b[0m\u001b[0;34m.\u001b[0m\u001b[0mjoin\u001b[0m\u001b[0;34m(\u001b[0m\u001b[0msrc_dir\u001b[0m\u001b[0;34m,\u001b[0m\u001b[0mfilename\u001b[0m\u001b[0;34m)\u001b[0m\u001b[0;34m\u001b[0m\u001b[0;34m\u001b[0m\u001b[0m\n\u001b[1;32m      8\u001b[0m             \u001b[0mdst_path\u001b[0m\u001b[0;34m=\u001b[0m\u001b[0mos\u001b[0m\u001b[0;34m.\u001b[0m\u001b[0mpath\u001b[0m\u001b[0;34m.\u001b[0m\u001b[0mjoin\u001b[0m\u001b[0;34m(\u001b[0m\u001b[0mdst_dir\u001b[0m\u001b[0;34m,\u001b[0m\u001b[0mfilename\u001b[0m\u001b[0;34m[\u001b[0m\u001b[0;34m:\u001b[0m\u001b[0mpreFE_len\u001b[0m\u001b[0;34m]\u001b[0m\u001b[0;34m+\u001b[0m\u001b[0mnewFE\u001b[0m\u001b[0;34m)\u001b[0m\u001b[0;34m\u001b[0m\u001b[0;34m\u001b[0m\u001b[0m\n\u001b[0;32m----> 9\u001b[0;31m             \u001b[0mmatplotlib\u001b[0m\u001b[0;34m.\u001b[0m\u001b[0mimage\u001b[0m\u001b[0;34m.\u001b[0m\u001b[0mimsave\u001b[0m\u001b[0;34m(\u001b[0m\u001b[0mdst_path\u001b[0m\u001b[0;34m,\u001b[0m \u001b[0mfunc\u001b[0m\u001b[0;34m(\u001b[0m\u001b[0msrc_path\u001b[0m\u001b[0;34m)\u001b[0m\u001b[0;34m)\u001b[0m\u001b[0;34m\u001b[0m\u001b[0;34m\u001b[0m\u001b[0m\n\u001b[0m\u001b[1;32m     10\u001b[0m         \u001b[0;32mexcept\u001b[0m \u001b[0mException\u001b[0m \u001b[0;32mas\u001b[0m \u001b[0me\u001b[0m\u001b[0;34m:\u001b[0m\u001b[0;34m\u001b[0m\u001b[0;34m\u001b[0m\u001b[0m\n\u001b[1;32m     11\u001b[0m             \u001b[0mprint\u001b[0m\u001b[0;34m(\u001b[0m\u001b[0mstr\u001b[0m\u001b[0;34m(\u001b[0m\u001b[0me\u001b[0m\u001b[0;34m)\u001b[0m\u001b[0;34m+\u001b[0m\u001b[0;34m\"  \"\u001b[0m\u001b[0;34m+\u001b[0m\u001b[0mfilename\u001b[0m\u001b[0;34m)\u001b[0m\u001b[0;34m\u001b[0m\u001b[0;34m\u001b[0m\u001b[0m\n",
      "\u001b[0;32m<ipython-input-42-7aecae617e58>\u001b[0m in \u001b[0;36mnoiseFilter\u001b[0;34m(file, inner, vouter, houter, maxM, norm)\u001b[0m\n\u001b[1;32m      3\u001b[0m     \u001b[0mP\u001b[0m\u001b[0;34m=\u001b[0m\u001b[0mcv2\u001b[0m\u001b[0;34m.\u001b[0m\u001b[0mimread\u001b[0m\u001b[0;34m(\u001b[0m\u001b[0mfile\u001b[0m\u001b[0;34m,\u001b[0m \u001b[0;36m0\u001b[0m\u001b[0;34m)\u001b[0m\u001b[0;34m\u001b[0m\u001b[0;34m\u001b[0m\u001b[0m\n\u001b[1;32m      4\u001b[0m     \u001b[0mQ\u001b[0m\u001b[0;34m=\u001b[0m\u001b[0mP\u001b[0m\u001b[0;34m.\u001b[0m\u001b[0mcopy\u001b[0m\u001b[0;34m(\u001b[0m\u001b[0;34m)\u001b[0m\u001b[0;34m\u001b[0m\u001b[0;34m\u001b[0m\u001b[0m\n\u001b[0;32m----> 5\u001b[0;31m     \u001b[0mQ\u001b[0m\u001b[0;34m=\u001b[0m\u001b[0mcv2\u001b[0m\u001b[0;34m.\u001b[0m\u001b[0mfastNlMeansDenoising\u001b[0m\u001b[0;34m(\u001b[0m\u001b[0mQ\u001b[0m\u001b[0;34m)\u001b[0m\u001b[0;34m\u001b[0m\u001b[0;34m\u001b[0m\u001b[0m\n\u001b[0m\u001b[1;32m      6\u001b[0m     \u001b[0mm\u001b[0m\u001b[0;34m,\u001b[0m\u001b[0mn\u001b[0m\u001b[0;34m=\u001b[0m\u001b[0mQ\u001b[0m\u001b[0;34m.\u001b[0m\u001b[0mshape\u001b[0m\u001b[0;34m\u001b[0m\u001b[0;34m\u001b[0m\u001b[0m\n\u001b[1;32m      7\u001b[0m     \u001b[0;32mif\u001b[0m\u001b[0;34m(\u001b[0m\u001b[0mnorm\u001b[0m\u001b[0;34m)\u001b[0m\u001b[0;34m:\u001b[0m\u001b[0;34m\u001b[0m\u001b[0;34m\u001b[0m\u001b[0m\n",
      "\u001b[0;31mKeyboardInterrupt\u001b[0m: "
     ]
    }
   ],
   "source": [
    "# kalvin\n",
    "# filter part\n",
    "train_spec_dir = './data/train_spec/'\n",
    "test_spec_dir = './data/test_spec/'\n",
    "train_filt_dir = './data/train_filter/'\n",
    "test_filt_dir = './data/test_filter/'\n",
    "save_transformed_data(train_spec_dir, train_filt_dir, noiseFilter, -4, \".png\")\n",
    "print('train finished')\n",
    "save_transformed_data(test_spec_dir, test_filt_dir, noiseFilter, -4, \".png\")\n",
    "print('test finished')\n"
   ]
  },
  {
   "cell_type": "code",
   "execution_count": null,
   "metadata": {},
   "outputs": [],
   "source": []
  },
  {
   "cell_type": "code",
   "execution_count": 17,
   "metadata": {
    "colab": {},
    "colab_type": "code",
    "id": "MpkPlMoZqsKl"
   },
   "outputs": [
    {
     "name": "stdout",
     "output_type": "stream",
     "text": [
      "215\n"
     ]
    },
    {
     "data": {
      "image/png": "[encoded data removed]",
      "text/plain": [
       "<Figure size 432x288 with 4 Axes>"
      ]
     },
     "metadata": {
      "needs_background": "light"
     },
     "output_type": "display_data"
    },
    {
     "name": "stdout",
     "output_type": "stream",
     "text": [
      "(50, 129)\n",
      "train finished\n",
      "215\n"
     ]
    },
    {
     "data": {
      "image/png": "[encoded data removed]",
      "text/plain": [
       "<Figure size 432x288 with 4 Axes>"
      ]
     },
     "metadata": {
      "needs_background": "light"
     },
     "output_type": "display_data"
    },
    {
     "name": "stdout",
     "output_type": "stream",
     "text": [
      "(50, 129)\n",
      "test finished\n"
     ]
    }
   ],
   "source": [
    "# Shang\n",
    "train_filt_dir = './data/train_filter/'\n",
    "test_filt_dir = './data/test_filter/'\n",
    "train_penc_dir = './data/train_PENC/'\n",
    "test_penc_dir = './data/test_PENC/'\n",
    "save_transformed_data(train_filt_dir, train_penc_dir, PCEN, -4, \".png\")\n",
    "print('train finished')\n",
    "save_transformed_data(test_filt_dir, test_penc_dir, PCEN, -4, \".png\")\n",
    "print('test finished')\n"
   ]
  },
  {
   "cell_type": "code",
   "execution_count": null,
   "metadata": {},
   "outputs": [],
   "source": []
  }
 ],
 "metadata": {
  "colab": {
   "collapsed_sections": [],
   "name": "preprocess.ipynb",
   "provenance": []
  },
  "kernelspec": {
   "display_name": "Python 3",
   "language": "python",
   "name": "python3"
  },
  "language_info": {
   "codemirror_mode": {
    "name": "ipython",
    "version": 3
   },
   "file_extension": ".py",
   "mimetype": "text/x-python",
   "name": "python",
   "nbconvert_exporter": "python",
   "pygments_lexer": "ipython3",
   "version": "3.7.4"
  }
 },
 "nbformat": 4,
 "nbformat_minor": 1
}
