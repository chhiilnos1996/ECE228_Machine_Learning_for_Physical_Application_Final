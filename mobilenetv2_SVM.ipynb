{
  "nbformat": 4,
  "nbformat_minor": 0,
  "metadata": {
    "kernelspec": {
      "display_name": "Python 3",
      "language": "python",
      "name": "python3"
    },
    "language_info": {
      "codemirror_mode": {
        "name": "ipython",
        "version": 3
      },
      "file_extension": ".py",
      "mimetype": "text/x-python",
      "name": "python",
      "nbconvert_exporter": "python",
      "pygments_lexer": "ipython3",
      "version": "3.7.3"
    },
    "colab": {
      "name": "mobilenetv2_SVM.ipynb",
      "provenance": [],
      "collapsed_sections": []
    },
    "accelerator": "GPU",
    "widgets": {
      "application/vnd.jupyter.widget-state+json": {
        "8cbb688ac983443c81c06d6ccda80103": {
          "model_module": "@jupyter-widgets/controls",
          "model_name": "HBoxModel",
          "state": {
            "_view_name": "HBoxView",
            "_dom_classes": [],
            "_model_name": "HBoxModel",
            "_view_module": "@jupyter-widgets/controls",
            "_model_module_version": "1.5.0",
            "_view_count": null,
            "_view_module_version": "1.5.0",
            "box_style": "",
            "layout": "IPY_MODEL_cb9f5511ead84a09bccefaa9d86c5523",
            "_model_module": "@jupyter-widgets/controls",
            "children": [
              "IPY_MODEL_c0118e3622524b44b3a72df156bd4a27",
              "IPY_MODEL_c1fb3c20afac4eb8a35740d229172604"
            ]
          }
        },
        "cb9f5511ead84a09bccefaa9d86c5523": {
          "model_module": "@jupyter-widgets/base",
          "model_name": "LayoutModel",
          "state": {
            "_view_name": "LayoutView",
            "grid_template_rows": null,
            "right": null,
            "justify_content": null,
            "_view_module": "@jupyter-widgets/base",
            "overflow": null,
            "_model_module_version": "1.2.0",
            "_view_count": null,
            "flex_flow": null,
            "width": null,
            "min_width": null,
            "border": null,
            "align_items": null,
            "bottom": null,
            "_model_module": "@jupyter-widgets/base",
            "top": null,
            "grid_column": null,
            "overflow_y": null,
            "overflow_x": null,
            "grid_auto_flow": null,
            "grid_area": null,
            "grid_template_columns": null,
            "flex": null,
            "_model_name": "LayoutModel",
            "justify_items": null,
            "grid_row": null,
            "max_height": null,
            "align_content": null,
            "visibility": null,
            "align_self": null,
            "height": null,
            "min_height": null,
            "padding": null,
            "grid_auto_rows": null,
            "grid_gap": null,
            "max_width": null,
            "order": null,
            "_view_module_version": "1.2.0",
            "grid_template_areas": null,
            "object_position": null,
            "object_fit": null,
            "grid_auto_columns": null,
            "margin": null,
            "display": null,
            "left": null
          }
        },
        "c0118e3622524b44b3a72df156bd4a27": {
          "model_module": "@jupyter-widgets/controls",
          "model_name": "FloatProgressModel",
          "state": {
            "_view_name": "ProgressView",
            "style": "IPY_MODEL_93f9f8811de847d1b38da22cd1757616",
            "_dom_classes": [],
            "description": "100%",
            "_model_name": "FloatProgressModel",
            "bar_style": "success",
            "max": 14212972,
            "_view_module": "@jupyter-widgets/controls",
            "_model_module_version": "1.5.0",
            "value": 14212972,
            "_view_count": null,
            "_view_module_version": "1.5.0",
            "orientation": "horizontal",
            "min": 0,
            "description_tooltip": null,
            "_model_module": "@jupyter-widgets/controls",
            "layout": "IPY_MODEL_7fff0c675c4a441dba6b6f317ee3f63c"
          }
        },
        "c1fb3c20afac4eb8a35740d229172604": {
          "model_module": "@jupyter-widgets/controls",
          "model_name": "HTMLModel",
          "state": {
            "_view_name": "HTMLView",
            "style": "IPY_MODEL_27155b4478e84444845d7a92f7d6ac3c",
            "_dom_classes": [],
            "description": "",
            "_model_name": "HTMLModel",
            "placeholder": "​",
            "_view_module": "@jupyter-widgets/controls",
            "_model_module_version": "1.5.0",
            "value": " 13.6M/13.6M [00:00&lt;00:00, 31.2MB/s]",
            "_view_count": null,
            "_view_module_version": "1.5.0",
            "description_tooltip": null,
            "_model_module": "@jupyter-widgets/controls",
            "layout": "IPY_MODEL_3e4f53162ebb4aed8b5089ccf197b117"
          }
        },
        "93f9f8811de847d1b38da22cd1757616": {
          "model_module": "@jupyter-widgets/controls",
          "model_name": "ProgressStyleModel",
          "state": {
            "_view_name": "StyleView",
            "_model_name": "ProgressStyleModel",
            "description_width": "initial",
            "_view_module": "@jupyter-widgets/base",
            "_model_module_version": "1.5.0",
            "_view_count": null,
            "_view_module_version": "1.2.0",
            "bar_color": null,
            "_model_module": "@jupyter-widgets/controls"
          }
        },
        "7fff0c675c4a441dba6b6f317ee3f63c": {
          "model_module": "@jupyter-widgets/base",
          "model_name": "LayoutModel",
          "state": {
            "_view_name": "LayoutView",
            "grid_template_rows": null,
            "right": null,
            "justify_content": null,
            "_view_module": "@jupyter-widgets/base",
            "overflow": null,
            "_model_module_version": "1.2.0",
            "_view_count": null,
            "flex_flow": null,
            "width": null,
            "min_width": null,
            "border": null,
            "align_items": null,
            "bottom": null,
            "_model_module": "@jupyter-widgets/base",
            "top": null,
            "grid_column": null,
            "overflow_y": null,
            "overflow_x": null,
            "grid_auto_flow": null,
            "grid_area": null,
            "grid_template_columns": null,
            "flex": null,
            "_model_name": "LayoutModel",
            "justify_items": null,
            "grid_row": null,
            "max_height": null,
            "align_content": null,
            "visibility": null,
            "align_self": null,
            "height": null,
            "min_height": null,
            "padding": null,
            "grid_auto_rows": null,
            "grid_gap": null,
            "max_width": null,
            "order": null,
            "_view_module_version": "1.2.0",
            "grid_template_areas": null,
            "object_position": null,
            "object_fit": null,
            "grid_auto_columns": null,
            "margin": null,
            "display": null,
            "left": null
          }
        },
        "27155b4478e84444845d7a92f7d6ac3c": {
          "model_module": "@jupyter-widgets/controls",
          "model_name": "DescriptionStyleModel",
          "state": {
            "_view_name": "StyleView",
            "_model_name": "DescriptionStyleModel",
            "description_width": "",
            "_view_module": "@jupyter-widgets/base",
            "_model_module_version": "1.5.0",
            "_view_count": null,
            "_view_module_version": "1.2.0",
            "_model_module": "@jupyter-widgets/controls"
          }
        },
        "3e4f53162ebb4aed8b5089ccf197b117": {
          "model_module": "@jupyter-widgets/base",
          "model_name": "LayoutModel",
          "state": {
            "_view_name": "LayoutView",
            "grid_template_rows": null,
            "right": null,
            "justify_content": null,
            "_view_module": "@jupyter-widgets/base",
            "overflow": null,
            "_model_module_version": "1.2.0",
            "_view_count": null,
            "flex_flow": null,
            "width": null,
            "min_width": null,
            "border": null,
            "align_items": null,
            "bottom": null,
            "_model_module": "@jupyter-widgets/base",
            "top": null,
            "grid_column": null,
            "overflow_y": null,
            "overflow_x": null,
            "grid_auto_flow": null,
            "grid_area": null,
            "grid_template_columns": null,
            "flex": null,
            "_model_name": "LayoutModel",
            "justify_items": null,
            "grid_row": null,
            "max_height": null,
            "align_content": null,
            "visibility": null,
            "align_self": null,
            "height": null,
            "min_height": null,
            "padding": null,
            "grid_auto_rows": null,
            "grid_gap": null,
            "max_width": null,
            "order": null,
            "_view_module_version": "1.2.0",
            "grid_template_areas": null,
            "object_position": null,
            "object_fit": null,
            "grid_auto_columns": null,
            "margin": null,
            "display": null,
            "left": null
          }
        }
      }
    }
  },
  "cells": [
    {
      "cell_type": "markdown",
      "metadata": {
        "id": "_bjSRMO0YRhu",
        "colab_type": "text"
      },
      "source": [
        "# Whale Detection Challenge : MobileNet V2"
      ]
    },
    {
      "cell_type": "markdown",
      "metadata": {
        "id": "dVUUMXyiYRhw",
        "colab_type": "text"
      },
      "source": [
        "Method overview : FFT to convert the sound tracks into spectrograms, and apply distinct preprocessing methods such as clipping, noise removal, PCEN and filters. After preprocessing we feed the spectrograms into state of the art light CNN models such as Resnet 18, VGG 16 or GoogleNet to identify right whale call patterns and perform classification. We may also try the removal of pooling layers in the networks and see if it causes better outcome."
      ]
    },
    {
      "cell_type": "code",
      "metadata": {
        "id": "GKAmMppGYUGe",
        "colab_type": "code",
        "outputId": "e2de573a-1b03-4c85-b562-84dcede0df4e",
        "colab": {
          "base_uri": "https://localhost:8080/",
          "height": 144
        }
      },
      "source": [
        "from google.colab import drive\n",
        "drive.mount('/content/drive')\n",
        "%cd drive/My\\ Drive/ECE\\ 228\\ Project"
      ],
      "execution_count": 1,
      "outputs": [
        {
          "output_type": "stream",
          "text": [
            "Go to this URL in a browser: https://accounts.google.com/o/oauth2/auth?client_id=947318989803-6bn6qk8qdgf4n4g3pfee6491hc0brc4i.apps.googleusercontent.com&redirect_uri=urn%3aietf%3awg%3aoauth%3a2.0%3aoob&response_type=code&scope=email%20https%3a%2f%2fwww.googleapis.com%2fauth%2fdocs.test%20https%3a%2f%2fwww.googleapis.com%2fauth%2fdrive%20https%3a%2f%2fwww.googleapis.com%2fauth%2fdrive.photos.readonly%20https%3a%2f%2fwww.googleapis.com%2fauth%2fpeopleapi.readonly\n",
            "\n",
            "Enter your authorization code:\n",
            "··········\n",
            "Mounted at /content/drive\n",
            "/content/drive/My Drive/ECE 228 Project\n"
          ],
          "name": "stdout"
        }
      ]
    },
    {
      "cell_type": "code",
      "metadata": {
        "id": "JUbuLKZfYRhx",
        "colab_type": "code",
        "outputId": "02d2031d-17b2-4732-cf95-f2efe9a6a29d",
        "colab": {
          "base_uri": "https://localhost:8080/",
          "height": 52
        }
      },
      "source": [
        "from __future__ import print_function\n",
        "from __future__ import division\n",
        "import torch\n",
        "import torch.nn as nn\n",
        "import torch.optim as optim\n",
        "import numpy as np\n",
        "import torchvision\n",
        "from torchvision import datasets, models, transforms\n",
        "from sklearn.svm import LinearSVC\n",
        "from sklearn.decomposition import PCA\n",
        "import matplotlib.pyplot as plt\n",
        "import time\n",
        "import os\n",
        "import copy\n",
        "from sklearn.exceptions import ConvergenceWarning\n",
        "import warnings\n",
        "warnings.filterwarnings(\"ignore\", category=ConvergenceWarning)\n",
        "\n",
        "print(\"PyTorch Version: \",torch.__version__)\n",
        "print(\"Torchvision Version: \",torchvision.__version__)"
      ],
      "execution_count": 2,
      "outputs": [
        {
          "output_type": "stream",
          "text": [
            "PyTorch Version:  1.5.0+cu101\n",
            "Torchvision Version:  0.6.0+cu101\n"
          ],
          "name": "stdout"
        }
      ]
    },
    {
      "cell_type": "markdown",
      "metadata": {
        "id": "PQE2DE8ZYRh5",
        "colab_type": "text"
      },
      "source": [
        "## Import and Load Data"
      ]
    },
    {
      "cell_type": "code",
      "metadata": {
        "id": "eOktEw55YRh5",
        "colab_type": "code",
        "colab": {}
      },
      "source": [
        "num_classes =2\n",
        "batch_size = 50\n",
        "num_epochs = 1\n",
        "feature_extract = True\n",
        "groups = 3\n",
        "vis_batch = 4"
      ],
      "execution_count": 0,
      "outputs": []
    },
    {
      "cell_type": "code",
      "metadata": {
        "id": "mgLY9QUIYRh9",
        "colab_type": "code",
        "outputId": "12b8d046-5f65-42ef-dbd1-16643694e4af",
        "colab": {
          "base_uri": "https://localhost:8080/",
          "height": 35
        }
      },
      "source": [
        "data_dir = \"data/\"\n",
        "# Data augmentation and normalization for training\n",
        "# Just normalization for validation\n",
        "data_transforms = {\n",
        "    'train': transforms.Compose([\n",
        "        transforms.ToTensor(),\n",
        "        transforms.Normalize([0.485, 0.456, 0.406], [0.229, 0.224, 0.225])\n",
        "    ]),\n",
        "    'val': transforms.Compose([\n",
        "        transforms.ToTensor(),\n",
        "        transforms.Normalize([0.485, 0.456, 0.406], [0.229, 0.224, 0.225])\n",
        "    ]),\n",
        "}\n",
        "\n",
        "print(\"Initializing Datasets and Dataloaders...\")\n",
        "\n",
        "# Create training and validation datasets\n",
        "image_datasets = {x: datasets.ImageFolder(os.path.join(data_dir, x+\"_prep_10/\"), data_transforms[x]) for x in ['train', 'val']}\n",
        "# Create training and validation dataloaders\n",
        "dataloaders_dict = {x: torch.utils.data.DataLoader(image_datasets[x], batch_size=batch_size, shuffle=True, num_workers=8) for x in ['train', 'val']}\n",
        "\n",
        "# Detect if we have a GPU available\n",
        "device = torch.device(\"cuda:0\" if torch.cuda.is_available() else \"cpu\")"
      ],
      "execution_count": 4,
      "outputs": [
        {
          "output_type": "stream",
          "text": [
            "Initializing Datasets and Dataloaders...\n"
          ],
          "name": "stdout"
        }
      ]
    },
    {
      "cell_type": "markdown",
      "metadata": {
        "id": "M46M6PerYRiB",
        "colab_type": "text"
      },
      "source": [
        "## Model"
      ]
    },
    {
      "cell_type": "code",
      "metadata": {
        "id": "q3nbAkK4YRiB",
        "colab_type": "code",
        "colab": {
          "base_uri": "https://localhost:8080/",
          "height": 104,
          "referenced_widgets": [
            "8cbb688ac983443c81c06d6ccda80103",
            "cb9f5511ead84a09bccefaa9d86c5523",
            "c0118e3622524b44b3a72df156bd4a27",
            "c1fb3c20afac4eb8a35740d229172604",
            "93f9f8811de847d1b38da22cd1757616",
            "7fff0c675c4a441dba6b6f317ee3f63c",
            "27155b4478e84444845d7a92f7d6ac3c",
            "3e4f53162ebb4aed8b5089ccf197b117"
          ]
        },
        "outputId": "d4875dbf-8f7c-4da7-972e-bc6826045fe8"
      },
      "source": [
        "def set_parameter_requires_grad(model, feature_extracting):\n",
        "    if feature_extracting:\n",
        "        for param in model.parameters():\n",
        "            param.requires_grad = False\n",
        "\n",
        "def initialize_model(num_classes, feature_extract, use_pretrained=True):\n",
        "    # Initialize these variables which will be set in this if statement. Each of these\n",
        "    #   variables is model specific.\n",
        "    model_ft = models.mobilenet_v2(pretrained=use_pretrained)\n",
        "    model_ft = torch.nn.Sequential(*(list(model_ft.children())[:-1]))\n",
        "\n",
        "    #set_parameter_requires_grad(model_ft, feature_extract)\n",
        "    #model_ft.classifier[1] = nn.Linear(model_ft.last_channel, num_classes)\n",
        "    \n",
        "    input_size = 224\n",
        "    return model_ft, input_size\n",
        "\n",
        "# Initialize the model for this run\n",
        "model_ft, input_size = initialize_model(num_classes, feature_extract, use_pretrained=True)\n",
        "\n",
        "# Print the model we just instantiated\n",
        "#print(model_ft)"
      ],
      "execution_count": 5,
      "outputs": [
        {
          "output_type": "stream",
          "text": [
            "Downloading: \"https://download.pytorch.org/models/mobilenet_v2-b0353104.pth\" to /root/.cache/torch/checkpoints/mobilenet_v2-b0353104.pth\n"
          ],
          "name": "stderr"
        },
        {
          "output_type": "display_data",
          "data": {
            "application/vnd.jupyter.widget-view+json": {
              "model_id": "8cbb688ac983443c81c06d6ccda80103",
              "version_minor": 0,
              "version_major": 2
            },
            "text/plain": [
              "HBox(children=(FloatProgress(value=0.0, max=14212972.0), HTML(value='')))"
            ]
          },
          "metadata": {
            "tags": []
          }
        },
        {
          "output_type": "stream",
          "text": [
            "\n"
          ],
          "name": "stdout"
        }
      ]
    },
    {
      "cell_type": "markdown",
      "metadata": {
        "id": "uJrJcyLmYRiE",
        "colab_type": "text"
      },
      "source": [
        "## Training Section"
      ]
    },
    {
      "cell_type": "markdown",
      "metadata": {
        "id": "Fn8d9hXrYRiF",
        "colab_type": "text"
      },
      "source": [
        "### training fuction"
      ]
    },
    {
      "cell_type": "code",
      "metadata": {
        "id": "WggsKCR-YRiG",
        "colab_type": "code",
        "colab": {}
      },
      "source": [
        "def train_model(model, dataloaders,batch_size, num_epochs=25,n_pca=10):\n",
        "    since = time.time()\n",
        "    history = {'train_loss':[],'train_acc':[],'val_loss':[],'val_acc':[]}\n",
        "    best_model_wts = copy.deepcopy(model.state_dict())\n",
        "    best_acc = 0.0\n",
        "    acc=0\n",
        "    t=np.zeros((1,1))\n",
        "    l=np.zeros((1,1))\n",
        "    clf = LinearSVC(random_state=0, tol=1e-5)\n",
        "    print(\"PCA components: \",n_pca)\n",
        "    pca=PCA(n_components=n_pca)\n",
        "    count=batch_size\n",
        "    for epoch in range(num_epochs):\n",
        "        print('Epoch {}/{}'.format(epoch, num_epochs - 1))\n",
        "        print('-' * 10)\n",
        "\n",
        "        # Each epoch has a training and validation phase\n",
        "        for phase in ['train', 'val']:\n",
        "            if phase == 'train':\n",
        "                model.train()  # Set model to training mode\n",
        "            else:\n",
        "                model.eval()   # Set model to evaluate mode\n",
        "\n",
        "            running_loss = 0.0\n",
        "            running_corrects = 0\n",
        "            # Iterate over data.\n",
        "            for inputs, labels in dataloaders[phase]:\n",
        "                inputs = inputs.to(device)\n",
        "                labels = labels.to(device)\n",
        "                # zero the parameter gradients\n",
        "                #optimizer.zero_grad()\n",
        "\n",
        "                outputs = model(inputs)\n",
        "                #print('output shape:',np.shape(outputs))\n",
        "                if(count==batch_size):\n",
        "                    t=outputs.cpu().data.numpy().reshape((batch_size,-1))\n",
        "                    l=labels.cpu().data.numpy()\n",
        "                    #print('t shape:',np.shape(t))\n",
        "\n",
        "                else:\n",
        "                    t=np.append(t,outputs.cpu().data.numpy().reshape((batch_size,-1)),axis=0)\n",
        "                    l=np.append(l,labels.cpu().data.numpy(),axis=0)\n",
        "                    #print('t shape:',np.shape(t))\n",
        "                count=count+batch_size\n",
        "               \n",
        "                if phase == 'train':\n",
        "                    if(count>2900):\n",
        "                        pca.fit(t)\n",
        "                        t_pca=pca.transform(t)\n",
        "                        clf.fit(t_pca, l)\n",
        "                    #print(l)\n",
        "                else:\n",
        "                    if((count-batch_size)>n_pca):\n",
        "                        pca.fit(t)\n",
        "                        t_pca=pca.transform(t)\n",
        "                        #res=clf.predict(t)\n",
        "                        #print('res shape:',np.shape(res))\n",
        "                        #print('l shape:',np.shape(l))\n",
        "                        acc=clf.score(t_pca,l)\n",
        "                        #print('res:',acc)\n",
        "                if(acc>best_acc):\n",
        "                    best_acc=acc\n",
        "            count=0\n",
        "\n",
        "\n",
        "               \n",
        "\n",
        "           \n",
        "           \n",
        "            # deep copy the model\n",
        "            # if phase == 'train':\n",
        "            #     history['train_loss'].append(epoch_loss)\n",
        "            #     history['train_acc'].append(epoch_acc)\n",
        "            # if phase == 'val' and epoch_acc > best_acc:\n",
        "            #     best_acc = epoch_acc\n",
        "            #     best_model_wts = copy.deepcopy(model.state_dict())\n",
        "            # if phase == 'val':\n",
        "            #     history['val_loss'].append(epoch_loss)\n",
        "            #     history['val_acc'].append(epoch_acc)\n",
        "\n",
        "        print()\n",
        "\n",
        "    time_elapsed = time.time() - since\n",
        "    print('Training complete in {:.0f}m {:.0f}s'.format(time_elapsed // 60, time_elapsed % 60))\n",
        "    #print('Best val Acc: {:4f}'.format(best_acc))\n",
        "\n",
        "    # load best model weights\n",
        "    model.load_state_dict(best_model_wts)\n",
        "    return model, history, best_acc,t"
      ],
      "execution_count": 0,
      "outputs": []
    },
    {
      "cell_type": "markdown",
      "metadata": {
        "id": "3ijDdPQbYRiJ",
        "colab_type": "text"
      },
      "source": [
        "### optimizer"
      ]
    },
    {
      "cell_type": "code",
      "metadata": {
        "id": "E-CWYHodYRiK",
        "colab_type": "code",
        "colab": {}
      },
      "source": [
        "# Send the model to GPU\n",
        "model_ft = model_ft.to(device)\n",
        "\n",
        "# Gather the parameters to be optimized/updated in this run. If we are\n",
        "#  finetuning we will be updating all parameters. However, if we are\n",
        "#  doing feature extract method, we will only update the parameters\n",
        "#  that we have just initialized, i.e. the parameters with requires_grad\n",
        "#  is True.\n",
        "# params_to_update = model_ft.parameters()\n",
        "# print(\"Params to learn:\")\n",
        "# if feature_extract:\n",
        "#     params_to_update = []\n",
        "#     for name,param in model_ft.named_parameters():\n",
        "#         if param.requires_grad == True:\n",
        "#             params_to_update.append(param)\n",
        "#             print(\"\\t\",name)\n",
        "# else:\n",
        "#     for name,param in model_ft.named_parameters():\n",
        "#         if param.requires_grad == True:\n",
        "#             print(\"\\t\",name)\n",
        "\n",
        "# # Observe that all parameters are being optimized\n",
        "# optimizer_ft = optim.SGD(params_to_update, lr=0.001, momentum=0.9)"
      ],
      "execution_count": 0,
      "outputs": []
    },
    {
      "cell_type": "markdown",
      "metadata": {
        "id": "UeUjEMkIYRiN",
        "colab_type": "text"
      },
      "source": [
        "### run and save model"
      ]
    },
    {
      "cell_type": "code",
      "metadata": {
        "id": "OFvejIKSYRiO",
        "colab_type": "code",
        "outputId": "a6a1f8d7-f847-494e-9158-25a3025c656a",
        "colab": {
          "base_uri": "https://localhost:8080/",
          "height": 1000
        }
      },
      "source": [
        "%%time\n",
        "# Setup the loss fxn\n",
        "#criterion = nn.CrossEntropyLoss()\n",
        "t=[16+i for i in range(0,512,16)]\n",
        "comp_pca=[8]+t\n",
        "#comp_pca=[512,256,128,64,32,16,8]\n",
        "acc_pca=[]\n",
        "\n",
        "# Train and evaluate\n",
        "for n in comp_pca:\n",
        "    model_ft, hist, best_acc,t = train_model(model_ft, dataloaders_dict,batch_size, num_epochs=num_epochs,n_pca=n)\n",
        "    print('best acc:',best_acc)\n",
        "    acc_pca.append(best_acc)\n",
        "    print('=' * 50)\n",
        "\n",
        "#torch.save(model_ft.state_dict(), 'model_weight/mobilenetv2_'+str(num_epochs))"
      ],
      "execution_count": 8,
      "outputs": [
        {
          "output_type": "stream",
          "text": [
            "PCA components:  8\n",
            "Epoch 0/0\n",
            "----------\n",
            "\n",
            "Training complete in 16m 27s\n",
            "best acc: 0.8062068965517242\n",
            "==================================================\n",
            "PCA components:  16\n",
            "Epoch 0/0\n",
            "----------\n",
            "\n",
            "Training complete in 5m 7s\n",
            "best acc: 0.7346666666666667\n",
            "==================================================\n",
            "PCA components:  32\n",
            "Epoch 0/0\n",
            "----------\n",
            "\n",
            "Training complete in 5m 55s\n",
            "best acc: 0.7547368421052632\n",
            "==================================================\n",
            "PCA components:  48\n",
            "Epoch 0/0\n",
            "----------\n",
            "\n",
            "Training complete in 6m 39s\n",
            "best acc: 0.7652173913043478\n",
            "==================================================\n",
            "PCA components:  64\n",
            "Epoch 0/0\n",
            "----------\n",
            "\n",
            "Training complete in 7m 52s\n",
            "best acc: 0.7430769230769231\n",
            "==================================================\n",
            "PCA components:  80\n",
            "Epoch 0/0\n",
            "----------\n",
            "\n",
            "Training complete in 8m 53s\n",
            "best acc: 0.7126086956521739\n",
            "==================================================\n",
            "PCA components:  96\n",
            "Epoch 0/0\n",
            "----------\n",
            "\n",
            "Training complete in 9m 24s\n",
            "best acc: 0.73125\n",
            "==================================================\n",
            "PCA components:  112\n",
            "Epoch 0/0\n",
            "----------\n",
            "\n",
            "Training complete in 10m 20s\n",
            "best acc: 0.7457142857142857\n",
            "==================================================\n",
            "PCA components:  128\n",
            "Epoch 0/0\n",
            "----------\n",
            "\n",
            "Training complete in 10m 43s\n",
            "best acc: 0.6850980392156862\n",
            "==================================================\n",
            "PCA components:  144\n",
            "Epoch 0/0\n",
            "----------\n",
            "\n",
            "Training complete in 11m 40s\n",
            "best acc: 0.7025\n",
            "==================================================\n",
            "PCA components:  160\n",
            "Epoch 0/0\n",
            "----------\n",
            "\n",
            "Training complete in 11m 42s\n",
            "best acc: 0.7025\n",
            "==================================================\n",
            "PCA components:  176\n",
            "Epoch 0/0\n",
            "----------\n",
            "\n",
            "Training complete in 12m 29s\n",
            "best acc: 0.7412121212121212\n",
            "==================================================\n",
            "PCA components:  192\n",
            "Epoch 0/0\n",
            "----------\n",
            "\n",
            "Training complete in 12m 54s\n",
            "best acc: 0.7132203389830508\n",
            "==================================================\n",
            "PCA components:  208\n",
            "Epoch 0/0\n",
            "----------\n",
            "\n",
            "Training complete in 13m 30s\n",
            "best acc: 0.7513636363636363\n",
            "==================================================\n",
            "PCA components:  224\n",
            "Epoch 0/0\n",
            "----------\n",
            "\n",
            "Training complete in 13m 44s\n",
            "best acc: 0.7490909090909091\n",
            "==================================================\n",
            "PCA components:  240\n",
            "Epoch 0/0\n",
            "----------\n",
            "\n",
            "Training complete in 14m 8s\n",
            "best acc: 0.67\n",
            "==================================================\n",
            "PCA components:  256\n",
            "Epoch 0/0\n",
            "----------\n",
            "\n",
            "Training complete in 14m 11s\n",
            "best acc: 0.7138461538461538\n",
            "==================================================\n",
            "PCA components:  272\n",
            "Epoch 0/0\n",
            "----------\n",
            "\n",
            "Training complete in 14m 44s\n",
            "best acc: 0.733125\n",
            "==================================================\n",
            "PCA components:  288\n",
            "Epoch 0/0\n",
            "----------\n",
            "\n",
            "Training complete in 15m 4s\n",
            "best acc: 0.7275\n",
            "==================================================\n",
            "PCA components:  304\n",
            "Epoch 0/0\n",
            "----------\n",
            "\n",
            "Training complete in 15m 14s\n",
            "best acc: 0.7283018867924528\n",
            "==================================================\n",
            "PCA components:  320\n",
            "Epoch 0/0\n",
            "----------\n",
            "\n",
            "Training complete in 16m 3s\n",
            "best acc: 0.7104\n",
            "==================================================\n",
            "PCA components:  336\n",
            "Epoch 0/0\n",
            "----------\n",
            "\n",
            "Training complete in 16m 36s\n",
            "best acc: 0.7314285714285714\n",
            "==================================================\n",
            "PCA components:  352\n",
            "Epoch 0/0\n",
            "----------\n",
            "\n",
            "Training complete in 17m 12s\n",
            "best acc: 0.7670588235294118\n",
            "==================================================\n",
            "PCA components:  368\n",
            "Epoch 0/0\n",
            "----------\n",
            "\n",
            "Training complete in 18m 14s\n",
            "best acc: 0.7109090909090909\n",
            "==================================================\n",
            "PCA components:  384\n",
            "Epoch 0/0\n",
            "----------\n",
            "\n",
            "Training complete in 18m 49s\n",
            "best acc: 0.7318518518518519\n",
            "==================================================\n",
            "PCA components:  400\n",
            "Epoch 0/0\n",
            "----------\n",
            "\n",
            "Training complete in 19m 15s\n",
            "best acc: 0.7545945945945945\n",
            "==================================================\n",
            "PCA components:  416\n",
            "Epoch 0/0\n",
            "----------\n",
            "\n",
            "Training complete in 20m 9s\n",
            "best acc: 0.7028571428571428\n",
            "==================================================\n",
            "PCA components:  432\n",
            "Epoch 0/0\n",
            "----------\n",
            "\n",
            "Training complete in 20m 35s\n",
            "best acc: 0.7144444444444444\n",
            "==================================================\n",
            "PCA components:  448\n",
            "Epoch 0/0\n",
            "----------\n",
            "\n",
            "Training complete in 20m 53s\n",
            "best acc: 0.7532142857142857\n",
            "==================================================\n",
            "PCA components:  464\n",
            "Epoch 0/0\n",
            "----------\n",
            "\n",
            "Training complete in 21m 39s\n",
            "best acc: 0.7146153846153847\n",
            "==================================================\n",
            "PCA components:  480\n",
            "Epoch 0/0\n",
            "----------\n",
            "\n",
            "Training complete in 22m 20s\n",
            "best acc: 0.7313207547169811\n",
            "==================================================\n",
            "PCA components:  496\n",
            "Epoch 0/0\n",
            "----------\n",
            "\n",
            "Training complete in 23m 58s\n",
            "best acc: 0.7157142857142857\n",
            "==================================================\n",
            "PCA components:  512\n",
            "Epoch 0/0\n",
            "----------\n",
            "\n",
            "Training complete in 24m 13s\n",
            "best acc: 0.7104761904761905\n",
            "==================================================\n",
            "CPU times: user 13h 31min 58s, sys: 1h 5min 45s, total: 14h 37min 43s\n",
            "Wall time: 8h 10min 34s\n"
          ],
          "name": "stdout"
        }
      ]
    },
    {
      "cell_type": "code",
      "metadata": {
        "id": "tFKgYBQa_kAK",
        "colab_type": "code",
        "colab": {
          "base_uri": "https://localhost:8080/",
          "height": 55
        },
        "outputId": "1d2badba-5eac-4f60-c643-dd06f3f2e10c"
      },
      "source": [
        "print(comp_pca)"
      ],
      "execution_count": 10,
      "outputs": [
        {
          "output_type": "stream",
          "text": [
            "[8, 16, 32, 48, 64, 80, 96, 112, 128, 144, 160, 176, 192, 208, 224, 240, 256, 272, 288, 304, 320, 336, 352, 368, 384, 400, 416, 432, 448, 464, 480, 496, 512]\n"
          ],
          "name": "stdout"
        }
      ]
    },
    {
      "cell_type": "code",
      "metadata": {
        "id": "arTTm7mxopcT",
        "colab_type": "code",
        "colab": {
          "base_uri": "https://localhost:8080/",
          "height": 421
        },
        "outputId": "d0637dba-6e5d-4bd3-cbf3-886c3b3abb57"
      },
      "source": [
        "print(comp_pca)\n",
        "print(np.round(acc_pca,4))\n",
        "plt.plot(comp_pca,acc_pca)\n",
        "plt.title('MobileNetV2')\n",
        "plt.xlabel('PCA')\n",
        "plt.ylabel('Accuracy')\n",
        "print('Average:', sum(acc_pca)/len(acc_pca))\n"
      ],
      "execution_count": 11,
      "outputs": [
        {
          "output_type": "stream",
          "text": [
            "[8, 16, 32, 48, 64, 80, 96, 112, 128, 144, 160, 176, 192, 208, 224, 240, 256, 272, 288, 304, 320, 336, 352, 368, 384, 400, 416, 432, 448, 464, 480, 496, 512]\n",
            "[0.8062 0.7347 0.7547 0.7652 0.7431 0.7126 0.7312 0.7457 0.6851 0.7025\n",
            " 0.7025 0.7412 0.7132 0.7514 0.7491 0.67   0.7138 0.7331 0.7275 0.7283\n",
            " 0.7104 0.7314 0.7671 0.7109 0.7319 0.7546 0.7029 0.7144 0.7532 0.7146\n",
            " 0.7313 0.7157 0.7105]\n",
            "Average: 0.7290945820432615\n"
          ],
          "name": "stdout"
        },
        {
          "output_type": "display_data",
          "data": {
            "image/png": "[encoded data removed]",
            "text/plain": [
              "<Figure size 432x288 with 1 Axes>"
            ]
          },
          "metadata": {
            "tags": [],
            "needs_background": "light"
          }
        }
      ]
    },
    {
      "cell_type": "markdown",
      "metadata": {
        "id": "uOB6ZpX5YRiR",
        "colab_type": "text"
      },
      "source": [
        "### plot loss and accuracy"
      ]
    },
    {
      "cell_type": "code",
      "metadata": {
        "id": "HIowFaClYRiR",
        "colab_type": "code",
        "colab": {}
      },
      "source": [
        "print(hist.keys())\n",
        "\n",
        "#### Fill in plot #####\n",
        "#Plot accuracy vs epoch\n",
        "plt.subplot(211)\n",
        "\n",
        "plt.plot(hist['train_acc'])\n",
        "plt.plot(hist['val_acc'])\n",
        "plt.title('accuracy : mobilenetv2')\n",
        "plt.ylabel('accuracy')\n",
        "plt.xlabel('epoch')\n",
        "plt.legend(['train', 'val'], loc='upper left')\n",
        "plt.show()\n",
        "\n",
        "#Plot loss vs epoch\n",
        "plt.subplot(212)\n",
        "plt.plot(hist['train_loss'])\n",
        "plt.plot(hist['val_loss'])\n",
        "plt.title('loss : mobilenetv2')\n",
        "plt.ylabel('loss')\n",
        "plt.xlabel('epoch')\n",
        "plt.legend(['train', 'val'], loc='upper left')\n",
        "plt.show()\n",
        "\n",
        "print(best_acc)"
      ],
      "execution_count": 0,
      "outputs": []
    },
    {
      "cell_type": "markdown",
      "metadata": {
        "id": "xnuynJr8YRiU",
        "colab_type": "text"
      },
      "source": [
        "### load model and prediction"
      ]
    },
    {
      "cell_type": "code",
      "metadata": {
        "id": "_FA9kdogYRiV",
        "colab_type": "code",
        "colab": {}
      },
      "source": [
        "def forward_vis(vis_loader, groups):\n",
        "    since = time.time()\n",
        "    device = torch.device(\"cuda:0\" if torch.cuda.is_available() else \"cpu\")\n",
        "    model = models.mobilenet_v2()\n",
        "    set_parameter_requires_grad(model, feature_extract)\n",
        "    model.classifier[1] = nn.Linear(model.last_channel, num_classes)\n",
        "    # load best model weights\n",
        "    model.load_state_dict(torch.load('model_weight/mobilenetv2_'+str(num_epochs)))\n",
        "    model.to(device)\n",
        "    model.eval()   # Set model to evaluate mode\n",
        "    # Iterate over data.\n",
        "    cnt=0\n",
        "    vis_dict = {'inputs':np.empty([groups,vis_batch,3,224,224]),'outputs':np.empty([groups,vis_batch,num_classes]),'labels':np.empty([groups,vis_batch]),'preds':np.empty([groups,vis_batch])}\n",
        "    for inputs, labels in vis_loader:\n",
        "            if(cnt==groups):\n",
        "                break;\n",
        "            \n",
        "            inputs = inputs.to(device)\n",
        "            labels = labels.to(device)\n",
        "            vis_dict['inputs'][cnt,:,:,:,:]=inputs.cpu().numpy()\n",
        "            vis_dict['labels'][cnt,:]=labels.cpu().numpy()\n",
        "            # forward\n",
        "            # track history if only in train\n",
        "            with torch.set_grad_enabled(False):\n",
        "            # Get model outputs and calculate loss\n",
        "            # Special case for inception because in training it has an auxiliary output. In train\n",
        "            #   mode we calculate the loss by summing the final output and the auxiliary output\n",
        "            #   but in testing we only consider the final output.\n",
        "                outputs = model(inputs)\n",
        "                _, preds = torch.max(outputs, 1)\n",
        "                vis_dict['outputs'][cnt,:,:]=outputs.cpu().numpy()\n",
        "                vis_dict['preds'][cnt,:]=preds.cpu().numpy()\n",
        "            cnt+=1\n",
        "            \n",
        "\n",
        "    time_elapsed = time.time() - since\n",
        "    print()\n",
        "    print('Inference complete in {:.0f}m {:.0f}s'.format(time_elapsed // 60, time_elapsed % 60))\n",
        "    return vis_dict\n",
        "\n",
        "vis_loader = torch.utils.data.DataLoader(image_datasets['val'], batch_size=vis_batch, shuffle=True, num_workers=8)\n",
        "vis_dict = forward_vis(vis_loader, groups)\n",
        "print(vis_dict['inputs'].shape)\n",
        "print(vis_dict['outputs'].shape)\n",
        "print(vis_dict['labels'].shape)\n",
        "print(vis_dict['preds'].shape)"
      ],
      "execution_count": 0,
      "outputs": []
    },
    {
      "cell_type": "markdown",
      "metadata": {
        "id": "6GJjfBznYRiX",
        "colab_type": "text"
      },
      "source": [
        "### visualization "
      ]
    },
    {
      "cell_type": "code",
      "metadata": {
        "id": "9PNBnYF7YRiY",
        "colab_type": "code",
        "colab": {}
      },
      "source": [
        "for i in range(groups) :\n",
        "    for j in range(vis_batch) :\n",
        "        plt.figure(figsize=(15,15))\n",
        "        plt.subplot(groups,vis_batch,4*i+j+1)\n",
        "        image = np.moveaxis(np.squeeze(vis_dict['inputs'][i,j]), 0, -1)\n",
        "        image = (image-np.amin(image))/(np.amax(image)-np.amin(image))\n",
        "        plt.imshow(image)\n",
        "        plt.tick_params(\n",
        "        axis='both',          # changes apply to the x-axis\n",
        "        which='both',      # both major and minor ticks are affected\n",
        "        bottom=False,      # ticks along the bottom edge are off\n",
        "        left=False,         # ticks along the left edge are off\n",
        "        labelbottom=False,\n",
        "        labelleft=False) # labels along the bottom edge are off\n",
        "        plt.title('preprocessed '+str(i)+' '+str(j))\n",
        "        plt.xlabel('label : '+str(vis_dict['labels'][i,j])+', pred : '+str(vis_dict['preds'][i,j])+', output : '+str(vis_dict['outputs'][i,j,:]))\n",
        "plt.show()"
      ],
      "execution_count": 0,
      "outputs": []
    },
    {
      "cell_type": "code",
      "metadata": {
        "id": "WuT8XcpMYRim",
        "colab_type": "code",
        "colab": {}
      },
      "source": [
        ""
      ],
      "execution_count": 0,
      "outputs": []
    }
  ]
}